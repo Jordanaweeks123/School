{
 "cells": [
  {
   "cell_type": "code",
   "execution_count": 8,
   "id": "87058b6d-fcf5-4a62-b740-a7a402d96feb",
   "metadata": {},
   "outputs": [
    {
     "name": "stdout",
     "output_type": "stream",
     "text": [
      "env: CYPHER=/home/jupyter/neo4j-community-4.3.3/bin/cypher-shell\n",
      "env: USER=neo4j\n",
      "env: PW=neo3j\n"
     ]
    }
   ],
   "source": [
    "%env CYPHER=/home/jupyter/neo4j-community-4.3.3/bin/cypher-shell\n",
    "%env USER=neo4j\n",
    "%env PW=neo3j"
   ]
  },
  {
   "cell_type": "code",
   "execution_count": 9,
   "id": "3c852333-0674-4874-995c-875c9b589cfa",
   "metadata": {},
   "outputs": [],
   "source": [
    "CONNECT=\"$CYPHER -u $USER -p $PW\""
   ]
  },
  {
   "cell_type": "code",
   "execution_count": 10,
   "id": "b3f4cc95-1930-4a18-ba6f-680854d4cdd3",
   "metadata": {},
   "outputs": [
    {
     "name": "stdout",
     "output_type": "stream",
     "text": [
      "0 rows\n",
      "ready to start consuming query after 40 ms, results consumed after another 0 ms\n"
     ]
    }
   ],
   "source": [
    "!$CONNECT \"MATCH (n) DETACH DELETE n\""
   ]
  },
  {
   "cell_type": "code",
   "execution_count": 12,
   "id": "f59a6a61-73e4-43c9-aa3f-e54ec872e043",
   "metadata": {},
   "outputs": [
    {
     "name": "stdout",
     "output_type": "stream",
     "text": [
      "COUNT(l)\n",
      "5835\n",
      "COUNT(a)\n",
      "42\n",
      "COUNT(n)\n",
      "41\n",
      "COUNT(h)\n",
      "4633\n",
      "COUNT(u)\n",
      "55917\n",
      "COUNT(r)\n",
      "62976\n"
     ]
    }
   ],
   "source": [
    "!cat /home/jupyter/JordanGrahamRepo/projectSeven/airbnb/load_data.cypher | {CONNECT} --format plain"
   ]
  },
  {
   "cell_type": "code",
   "execution_count": 86,
   "id": "3bf8e511-a72d-4158-8237-16fc2b32e47f",
   "metadata": {},
   "outputs": [
    {
     "name": "stdout",
     "output_type": "stream",
     "text": [
      "+------------------------------------------------------------------------------------------------------------------------------------------------------------------------------------------------------------------+\n",
      "| l                                                                                                                                                                                                                |\n",
      "+------------------------------------------------------------------------------------------------------------------------------------------------------------------------------------------------------------------+\n",
      "| (:Listing {bedrooms: 1, listing_id: \"72635\", availability_365: 240, price: 300.0, accommodates: 6, name: \"3 Private Bedrooms, SW Austin\", property_type: \"House\", bathrooms: 2})                                 |\n",
      "| (:Listing {bedrooms: 1, cleaning_fee: 75.0, weekly_price: 600.0, listing_id: \"5386323\", availability_365: 364, price: 99.0, accommodates: 2, name: \"Cricket Trailer\", property_type: \"Camper/RV\", bathrooms: 0}) |\n",
      "| (:Listing {bedrooms: 1, listing_id: \"8826517\", availability_365: 365, price: 100.0, accommodates: 2, name: \"Private room 1 in South Austin\", property_type: \"House\", bathrooms: 1})                              |\n",
      "| (:Listing {bedrooms: 1, listing_id: \"8828616\", availability_365: 365, price: 100.0, accommodates: 2, name: \"Private room 2 in South Austin\", property_type: \"House\", bathrooms: 1})                              |\n",
      "| (:Listing {bedrooms: 3, cleaning_fee: 125.0, listing_id: \"8536913\", availability_365: 358, price: 599.0, accommodates: 6, name: \"Brand-New 3BR Austin Home\", property_type: \"House\", bathrooms: 2})              |\n",
      "+------------------------------------------------------------------------------------------------------------------------------------------------------------------------------------------------------------------+\n",
      "\n",
      "5 rows\n",
      "ready to start consuming query after 13 ms, results consumed after another 1 ms\n"
     ]
    }
   ],
   "source": [
    "!{CONNECT} \"MATCH (l:Listing) RETURN l LIMIT 5\""
   ]
  },
  {
   "cell_type": "code",
   "execution_count": 87,
   "id": "72995f40-d1af-412f-bffb-c98d59a5c49a",
   "metadata": {},
   "outputs": [
    {
     "name": "stdout",
     "output_type": "stream",
     "text": [
      "+----------------------------------------+\n",
      "| l                                      |\n",
      "+----------------------------------------+\n",
      "| (:Amenity {name: \"Cable TV\"})          |\n",
      "| (:Amenity {name: \"Internet\"})          |\n",
      "| (:Amenity {name: \"Wireless Internet\"}) |\n",
      "| (:Amenity {name: \"Air Conditioning\"})  |\n",
      "| (:Amenity {name: \"Kitchen\"})           |\n",
      "+----------------------------------------+\n",
      "\n",
      "5 rows\n",
      "ready to start consuming query after 13 ms, results consumed after another 0 ms\n"
     ]
    }
   ],
   "source": [
    "!{CONNECT} \"MATCH (l:Amenity) RETURN l LIMIT 5\""
   ]
  },
  {
   "cell_type": "code",
   "execution_count": 88,
   "id": "07052733-c873-466a-8d3e-e8da2368f3bb",
   "metadata": {},
   "outputs": [
    {
     "name": "stdout",
     "output_type": "stream",
     "text": [
      "+-------------------------------------------------------------------+\n",
      "| l                                                                 |\n",
      "+-------------------------------------------------------------------+\n",
      "| (:Neighborhood {name: \"Circle C\", neighborhood_id: \"78739\"})      |\n",
      "| (:Neighborhood {name: \"St. Johns\", neighborhood_id: \"78754\"})     |\n",
      "| (:Neighborhood {name: \"Steiner Ranch\", neighborhood_id: \"78732\"}) |\n",
      "| (:Neighborhood {name: \"Oak Hill\", neighborhood_id: \"78737\"})      |\n",
      "| (:Neighborhood {name: \"Brentwood\", neighborhood_id: \"78756\"})     |\n",
      "+-------------------------------------------------------------------+\n",
      "\n",
      "5 rows\n",
      "ready to start consuming query after 18 ms, results consumed after another 1 ms\n"
     ]
    }
   ],
   "source": [
    "!{CONNECT} \"MATCH (l:Neighborhood) RETURN l LIMIT 5\""
   ]
  },
  {
   "cell_type": "code",
   "execution_count": 89,
   "id": "24bd3c82-78b3-43e9-8e46-115ec0016edc",
   "metadata": {},
   "outputs": [
    {
     "name": "stdout",
     "output_type": "stream",
     "text": [
      "+-------------------------------------------------------------------------------------------------------------------------------------------------------------------------------------------------------------------------------------------------------------------------------------------------------------+\n",
      "| l                                                                                                                                                                                                                                                                                                           |\n",
      "+-------------------------------------------------------------------------------------------------------------------------------------------------------------------------------------------------------------------------------------------------------------------------------------------------------------+\n",
      "| (:Host {name: \"Jason & Marcie\", superhost: FALSE, image: \"https://a2.muscache.com/ac/users/377044/profile_pic/1296844056/original.jpg?interpolation=lanczos-none&crop=w:w;*,*&crop=h:h;*,*&resize=225:*&output-format=jpg&output-quality=70\", location: \"Austin, Texas, United States\", host_id: \"377044\"}) |\n",
      "| (:Host {name: \"Michael\", superhost: FALSE, image: \"https://a1.muscache.com/ac/users/27922117/profile_pic/1424270603/original.jpg?interpolation=lanczos-none&crop=w:w;*,*&crop=h:h;*,*&resize=225:*&output-format=jpg&output-quality=70\", location: \"Austin, Texas, United States\", host_id: \"27922117\"})    |\n",
      "| (:Host {name: \"Ric\", superhost: FALSE, image: \"https://a0.muscache.com/ac/users/46230038/profile_pic/1444505932/original.jpg?interpolation=lanczos-none&crop=w:w;*,*&crop=h:h;*,*&resize=225:*&output-format=jpg&output-quality=70\", location: \"Austin, Texas, United States\", host_id: \"46230038\"})        |\n",
      "| (:Host {name: \"Bo\", image: \"https://a2.muscache.com/ac/users/31148752/profile_pic/1434475320/original.jpg?interpolation=lanczos-none&crop=w:w;*,*&crop=h:h;*,*&resize=225:*&output-format=jpg&output-quality=70\", superhost: FALSE, location: \"US\", host_id: \"31148752\"})                                   |\n",
      "| (:Host {name: \"Michael\", superhost: FALSE, image: \"https://a1.muscache.com/ac/users/44939694/profile_pic/1443068388/original.jpg?interpolation=lanczos-none&crop=w:w;*,*&crop=h:h;*,*&resize=225:*&output-format=jpg&output-quality=70\", location: \"Austin, Texas, United States\", host_id: \"44939694\"})    |\n",
      "+-------------------------------------------------------------------------------------------------------------------------------------------------------------------------------------------------------------------------------------------------------------------------------------------------------------+\n",
      "\n",
      "5 rows\n",
      "ready to start consuming query after 13 ms, results consumed after another 0 ms\n"
     ]
    }
   ],
   "source": [
    "!{CONNECT} \"MATCH (l:Host) RETURN l LIMIT 5\""
   ]
  },
  {
   "cell_type": "code",
   "execution_count": 90,
   "id": "655f3632-cf5f-484b-938a-63461fcc42e6",
   "metadata": {},
   "outputs": [
    {
     "name": "stdout",
     "output_type": "stream",
     "text": [
      "+------------------------------------------------+\n",
      "| l                                              |\n",
      "+------------------------------------------------+\n",
      "| (:User {name: \"Inessa\", user_id: \"4358294\"})   |\n",
      "| (:User {name: \"Colibri\", user_id: \"12361335\"}) |\n",
      "| (:User {name: \"Giuseppe\", user_id: \"6359216\"}) |\n",
      "| (:User {name: \"Sophia\", user_id: \"23638127\"})  |\n",
      "| (:User {name: \"Taylor\", user_id: \"3088100\"})   |\n",
      "+------------------------------------------------+\n",
      "\n",
      "5 rows\n",
      "ready to start consuming query after 16 ms, results consumed after another 0 ms\n"
     ]
    }
   ],
   "source": [
    "!{CONNECT} \"MATCH (l:User) RETURN l LIMIT 5\""
   ]
  },
  {
   "cell_type": "code",
   "execution_count": 91,
   "id": "b746ecba-d438-46f2-a22e-79d3a96c4777",
   "metadata": {},
   "outputs": [
    {
     "name": "stdout",
     "output_type": "stream",
     "text": [
      "+----------------------------------------------------------------------------------------------------------------------------------------------------------------------------------------------------------------------------------------------------------------------------------------------------------------------------------------------------------------------------------------------------------------------------------------------------------------------------------------------------------------------------------------------------------------------------------------------------------------------------------------------------------------------------------------------------------------------------------------------------------------------------------------------------------------------------------------------------------------------------------------------------------------------------------------------------------------------------------------------------------------------------------------------------------------------------------------------------------------------------------------------------------------------------------------------------------------------------------------------------------------------------------------------------------------------------------------------------------------------------------------------------------------------------------------------------------------------------------------------------------------------------------------+\n",
      "| l                                                                                                                                                                                                                                                                                                                                                                                                                                                                                                                                                                                                                                                                                                                                                                                                                                                                                                                                                                                                                                                                                                                                                                                                                                                                                                                                                                                                                                                                                                                                      |\n",
      "+----------------------------------------------------------------------------------------------------------------------------------------------------------------------------------------------------------------------------------------------------------------------------------------------------------------------------------------------------------------------------------------------------------------------------------------------------------------------------------------------------------------------------------------------------------------------------------------------------------------------------------------------------------------------------------------------------------------------------------------------------------------------------------------------------------------------------------------------------------------------------------------------------------------------------------------------------------------------------------------------------------------------------------------------------------------------------------------------------------------------------------------------------------------------------------------------------------------------------------------------------------------------------------------------------------------------------------------------------------------------------------------------------------------------------------------------------------------------------------------------------------------------------------------+\n",
      "| (:Review {date: \"2014-11-01\", review_id: \"22208895\", comments: \"I had a great time staying here! The room is huge and sunny, and it was the perfect place to do some work and hang out in the afternoon before heading out to dinner. Alexandra and David were very welcoming hosts. They were always around to answer any questions. They had breakfast and coffee for me every morning and even left it on the table by the door on mornings when I had to rush out to the office.  The cats were really cute too!\"})                                                                                                                                                                                                                                                                                                                                                                                                                                                                                                                                                                                                                                                                                                                                                                                                                                                                                                                                                                                                                |\n",
      "| (:Review {date: \"2014-11-10\", review_id: \"22619785\", comments: \"What a wonderful space in a beautiful & quiet neighborhood. We had an entire floor to ourselves, which felt like our own little apartment. The neighborhood is perfect - close to parks, and just a short bike ride to cafes and shops. Sasha and David were warm, friendly hosts, that spoiled us with coffee & treats each morning. Looking forward to the next visit! x\"})                                                                                                                                                                                                                                                                                                                                                                                                                                                                                                                                                                                                                                                                                                                                                                                                                                                                                                                                                                                                                                                                                          |\n",
      "| (:Review {date: \"2014-11-25\", review_id: \"23234873\", comments: \"The reservation was canceled 107 days before arrival. This is an automated posting.\"})                                                                                                                                                                                                                                                                                                                                                                                                                                                                                                                                                                                                                                                                                                                                                                                                                                                                                                                                                                                                                                                                                                                                                                                                                                                                                                                                                                                 |\n",
      "| (:Review {date: \"2014-11-29\", review_id: \"23338508\", comments: \"When I saw the posting and how clean and simple the room was, I was expecting a little less. When the wife and I got there, first off, the hosts were so genuine and accommodating, we immediately \\\"felt at home.\\\" They were so concerned about making sure they were there to greet us, and that we had accurate directions, etc. \n",
      "\n",
      "They take us upstairs. The picture that shows the room does not justify it. This room was huge! There are windows on one side that look over trees and greenery. Walk in closet. The bed is extremely comfortable. And then there's the bathroom. My wife looked at me and asked why her bathroom didn't look like this. I wish I had taken a picture.\n",
      "\n",
      "The rest of the house is also very beautiful. The kitchen is immaculate, a chef's dream. The house is centrally located in Austin, so you can get to any section of Austin pretty quick. It's in a beautiful area, not too far from University of Texas, Austin. It's only 15 minutes from the airport.\n",
      "\n",
      "Seriously, for the price, this was so much better than any hotel. My wife and I, when we return to Austin, would love to stay here again.\n",
      "\n",
      "\"})                                                                                                                                                                                                                                                                                                         |\n",
      "| (:Review {date: \"2015-01-04\", review_id: \"24989361\", comments: \"This is one of the first times we've been hesitant to write a review because we've been afraid of letting the secret out. :) We come to Austin fairly regularly, and we hope that this place is available for our next stay too! \n",
      "The room is quite large and luxurious. The desk and large chair came in handy for my work and my wife's studying. I don't think the pictures do it justice. The view from the expansive windows is great. You feel like you're in the trees. The windows are _very_ good sound insulators, so we slept soundly each night. The bathroom is large and beautiful, and the shower is great. \n",
      "Downstairs, we had use of the extensive, well stocked kitchen and dining room. It's worth mentioning that their coffee machine makes some of the best coffee I've ever had. \n",
      "The house is extremely well located in one of the best neighborhoods in Austin. I don't think we ever needed more than 10 minutes to get just about anywhere we needed to go, whether it was downtown, north, or south. \n",
      "Sasha and David are kind, friendly, and understanding people. We felt right at home from the moment we came in. They love cats, which was great for us, as we do too. The cats will come keep you company if you want, but are happy to leave you to your own devices if you'd prefer. So, there's no need to be a cat person to stay here - they're just an optional bonus. :) \n",
      "\n",
      "We wouldn't hesitate to stay here again! \"}) |\n",
      "+----------------------------------------------------------------------------------------------------------------------------------------------------------------------------------------------------------------------------------------------------------------------------------------------------------------------------------------------------------------------------------------------------------------------------------------------------------------------------------------------------------------------------------------------------------------------------------------------------------------------------------------------------------------------------------------------------------------------------------------------------------------------------------------------------------------------------------------------------------------------------------------------------------------------------------------------------------------------------------------------------------------------------------------------------------------------------------------------------------------------------------------------------------------------------------------------------------------------------------------------------------------------------------------------------------------------------------------------------------------------------------------------------------------------------------------------------------------------------------------------------------------------------------------+\n",
      "\n",
      "5 rows\n",
      "ready to start consuming query after 15 ms, results consumed after another 0 ms\n"
     ]
    }
   ],
   "source": [
    "!{CONNECT} \"MATCH (l:Review) RETURN l LIMIT 5\""
   ]
  },
  {
   "cell_type": "code",
   "execution_count": 13,
   "id": "6e89dd95-517e-4918-9585-aa325474672d",
   "metadata": {},
   "outputs": [
    {
     "name": "stdout",
     "output_type": "stream",
     "text": [
      "+-----------------------------+\n",
      "| labels(n)        | count(n) |\n",
      "+-----------------------------+\n",
      "| [\"Listing\"]      | 5835     |\n",
      "| [\"Amenity\"]      | 42       |\n",
      "| [\"Neighborhood\"] | 41       |\n",
      "| [\"Host\"]         | 4633     |\n",
      "| [\"User\"]         | 55917    |\n",
      "| [\"Review\"]       | 62976    |\n",
      "+-----------------------------+\n",
      "\n",
      "6 rows\n",
      "ready to start consuming query after 31 ms, results consumed after another 134 ms\n"
     ]
    }
   ],
   "source": [
    "!{CONNECT} \"MATCH (n) RETURN distinct labels(n), count(n)\""
   ]
  },
  {
   "cell_type": "code",
   "execution_count": 18,
   "id": "3a197541-0596-4320-9c89-33995dbda5b5",
   "metadata": {},
   "outputs": [
    {
     "name": "stdout",
     "output_type": "stream",
     "text": [
      "+----------+\n",
      "| count(h) |\n",
      "+----------+\n",
      "| 3774     |\n",
      "+----------+\n",
      "\n",
      "1 row\n",
      "ready to start consuming query after 2 ms, results consumed after another 9 ms\n"
     ]
    }
   ],
   "source": [
    "!{CONNECT} \"MATCH (h:Host) WHERE h.location = 'Austin, Texas, United States' RETURN count(h)\""
   ]
  },
  {
   "cell_type": "code",
   "execution_count": 25,
   "id": "a1850227-54a1-4ca6-96bd-37034ba17d74",
   "metadata": {},
   "outputs": [
    {
     "name": "stdout",
     "output_type": "stream",
     "text": [
      "+----------------------------------------------------------------------------------------+\n",
      "| l.name                                | l.property_type | l.price | l.availability_365 |\n",
      "+----------------------------------------------------------------------------------------+\n",
      "| \"4BR/3.5BA Spacious South Austin Gem\" | \"House\"         | 299.0   | 356                |\n",
      "| \"5BR/3BA Newly Built Downtown Austin\" | \"House\"         | 499.0   | 356                |\n",
      "| \"4BR/2.5BA Lakeway w/Pool Sleeps 14\"  | \"House\"         | 229.0   | 339                |\n",
      "| \"3BR/3BA Eclectic Downtown Austin\"    | \"House\"         | NULL    | 244                |\n",
      "| \"2BR/1.5BA Chic House, East Downtown\" | \"House\"         | 249.0   | 355                |\n",
      "| \"1BR Ideal South Austin Location\"     | \"Apartment\"     | 195.0   | 230                |\n",
      "| \"2BR Cheerful Character House\"        | \"House\"         | 799.0   | 356                |\n",
      "| \"4BR/5BA Majestic Luxury Home, Lake\"  | \"House\"         | NULL    | 312                |\n",
      "| \"1BR Convenient Austin Condo \"        | \"Apartment\"     | 93.0    | 354                |\n",
      "| \"2BR Charming Bouldin Cottage\"        | \"House\"         | 258.0   | 273                |\n",
      "| \"2BR/2BA South Austin Hip Duplex\"     | \"House\"         | 150.0   | 0                  |\n",
      "| \"3BR/2.5BA Tarrytown Duplex, Austin!\" | \"House\"         | 249.0   | 336                |\n",
      "| \"4BR/2.5BA The Lodge on Walnut Creek\" | \"House\"         | 200.0   | 350                |\n",
      "| \"3BR/2BA Inviting Retreat off SoCo\"   | \"House\"         | 145.0   | 353                |\n",
      "| \"2BR Downtown Austin Cottage \"        | \"House\"         | 149.0   | 51                 |\n",
      "| \"2BR/2BA Sophisticated Home Eastside\" | \"House\"         | 299.0   | 352                |\n",
      "| \"4BR/3BA Butterfly House with Pool\"   | \"House\"         | 299.0   | 332                |\n",
      "| \"3BR/2BA Plush, Modern Downtown Cond\" | \"Apartment\"     | 600.0   | 289                |\n",
      "| \"2BR Steps from Rainey Street\"        | \"House\"         | 172.0   | 351                |\n",
      "| \"2BR/2BA Perfectly Located ATX Home\"  | \"House\"         | 400.0   | 356                |\n",
      "| \"2BR/2BA Austin Soul Off Soco!\"       | \"House\"         | 149.0   | 334                |\n",
      "| \"2BR Casa Travis Heights\"             | \"House\"         | 249.0   | 364                |\n",
      "| \"3BR/2BA Unique East Side Find\"       | \"House\"         | 169.0   | 82                 |\n",
      "| \"2BR/2BA Stunning Zilker Park Townho\" | \"House\"         | 250.0   | 355                |\n",
      "| \"3BR/2BA Remodeled Walk to E. 6th\"    | \"House\"         | 287.0   | 358                |\n",
      "| \"3BR/2BA New Luxury Downtown Home\"    | \"Apartment\"     | 450.0   | 342                |\n",
      "| \"3BR/2.5BA Captivating House Lakeway\" | \"House\"         | 256.0   | 310                |\n",
      "| \"2BR/2BA Travis Heights, Ideal Condo\" | \"Apartment\"     | 199.0   | 354                |\n",
      "| \"3BR/2BA Downtown House with Pool\"    | \"House\"         | 299.0   | 335                |\n",
      "| \"2BR Custom Remodel Austin Home\"      | \"House\"         | 350.0   | 340                |\n",
      "| \"2BR Chill 'Ville With A View\"        | \"House\"         | 199.0   | 308                |\n",
      "| \"2BR/2BA Refined Eastside House\"      | \"House\"         | 179.0   | 331                |\n",
      "| \"2BR Lake Travis House, Lake Views\"   | \"House\"         | 295.0   | 361                |\n",
      "| \"3BR South Congress\"                  | \"House\"         | 172.0   | 340                |\n",
      "| \"2BR Central Austin Minutes to UT\"    | \"House\"         | 229.0   | 174                |\n",
      "| \"3BR/2BA Brentwood Dwelling\"          | \"House\"         | 160.0   | 356                |\n",
      "| \"2BR/2BA Incredible Downtown Condo\"   | \"Apartment\"     | 172.0   | 340                |\n",
      "| \"2BR LIVE Off South Congress!\"        | \"House\"         | 149.0   | 346                |\n",
      "| \"1BR Newly Built East DowntownAustin\" | \"Apartment\"     | 159.0   | 339                |\n",
      "| \"2BR/2BA Home Walk To Rainey Street\"  | \"House\"         | 149.0   | 238                |\n",
      "| \"3BR/2BA Travis Heights House\"        | \"House\"         | 299.0   | 358                |\n",
      "| \"2BR/1.5BA Charming House Off SoCo\"   | \"House\"         | 110.0   | 357                |\n",
      "| \"3BR Redesigned Near Uchi and Zilker\" | \"House\"         | 172.0   | 350                |\n",
      "| \"3BR/3BA Immaculate Hyde Park House \" | \"House\"         | 249.0   | 310                |\n",
      "| \"2BR Stylish South Congress House\"    | \"House\"         | 259.0   | 355                |\n",
      "| \"1BR/1.5BA Modern Design Home\"        | \"House\"         | 299.0   | 286                |\n",
      "| \"2BR Authentic Central Austin!\"       | \"House\"         | 170.0   | 278                |\n",
      "| \"4BR/2BA Walk To Zilker. Hot Tub\"     | \"House\"         | 978.0   | 357                |\n",
      "| \"3BR/2BA Walk to Barton Springs Road\" | \"House\"         | 229.0   | 326                |\n",
      "| \"1BR SoCo Treehouse Studio\"           | \"House\"         | 129.0   | 327                |\n",
      "| \"2BR Renovated Downtown Condo\"        | \"Apartment\"     | 172.0   | 312                |\n",
      "| \"3BR/2BA Lady Bird Lake Condo\"        | \"Condominium\"   | 199.0   | 349                |\n",
      "| \"1BR/1.5BA LuxuryTree House, Pool\"    | \"House\"         | 351.0   | 360                |\n",
      "| \"2BR/2BA Captivating SoCo Condo\"      | \"House\"         | 199.0   | 239                |\n",
      "| \"3BR/2BA Majestic TX Music Retreat\"   | \"House\"         | 250.0   | 352                |\n",
      "| \"3BR/2BA Charming Remodeled Home\"     | \"House\"         | 299.0   | 353                |\n",
      "| \"3BR/2.5BA Exquisite Townhouse\"       | \"House\"         | 222.0   | 358                |\n",
      "| \"4BR/2.5B Ranch Style Home with Pool\" | \"House\"         | 759.0   | 358                |\n",
      "| \"1BR Inviting Downtown Condo, Pool\"   | \"Apartment\"     | 99.0    | 335                |\n",
      "| \"2BR/2BA Luxury Townhouse\"            | \"House\"         | 149.0   | 343                |\n",
      "| \"4BR/2.5BA Spacious House w/ View \"   | \"Apartment\"     | 309.0   | 349                |\n",
      "| \"4BR/2BA Camp Mabry House, Great Art\" | \"House\"         | 259.0   | 361                |\n",
      "| \"3BR Distinct South Austin House\"     | \"House\"         | 150.0   | 364                |\n",
      "| \"3BR/3BA Lake Travis Retreat w/Pool\"  | \"House\"         | 600.0   | 347                |\n",
      "| \"4BR/2BA Renovated South Congress\"    | \"House\"         | 172.0   | 364                |\n",
      "| \"3BR/2.5BA Retreat with Pool/Spa\"     | \"House\"         | 249.0   | 244                |\n",
      "| \"2BR Freshly Renovated House, S 1st\"  | \"House\"         | 169.0   | 0                  |\n",
      "| \"3BR/3BA Downtown Lake Austin Escape\" | \"House\"         | 599.0   | 349                |\n",
      "| \"2BR/2BA Remodeled Austin Cottage\"    | \"House\"         | 229.0   | 316                |\n",
      "| \"3BR/3BA Luxury Modern House\"         | \"House\"         | 999.0   | 355                |\n",
      "| \"2BR/2BA Rustic, Quality House, Pool\" | \"House\"         | 199.0   | 360                |\n",
      "| \"1BR Boutique Studio, Historical\"     | \"Apartment\"     | 150.0   | 354                |\n",
      "| \"3BR/2.5BA Steps from Zilker\"         | \"House\"         | 287.0   | 302                |\n",
      "| \"6BR Luxury Estate w/Two Apartments\"  | \"House\"         | NULL    | 354                |\n",
      "| \"1BR/1.5BA Perfectly Located Casita\"  | \"House\"         | 140.0   | 351                |\n",
      "| \"2BR/2.5BA Stunning Downtown Apt!\"    | \"House\"         | 450.0   | 329                |\n",
      "| \"3BR/1.75BA Stylish Hyde Park House\"  | \"House\"         | 350.0   | 312                |\n",
      "| \"3BR/2BA Downtown Charming Bungalow\"  | \"House\"         | 999.0   | 350                |\n",
      "| \"5BR/5BA Judges Hill, Luxury Oasis\"   | \"House\"         | NULL    | 351                |\n",
      "| \"2BR/2.5BA Impressive Renovated Home\" | \"House\"         | 199.0   | 0                  |\n",
      "| \"2BR Remodeled House, Central Austin\" | \"House\"         | 172.0   | 310                |\n",
      "| \"4BR/3.5BA House w/ Separate Studio\"  | \"House\"         | 499.0   | 332                |\n",
      "| \"3BR/2BA Luxury Lakeside Estate \"     | \"House\"         | NULL    | 0                  |\n",
      "| \"2BR/2BA Downtown West Austin\"        | \"House\"         | 330.0   | 347                |\n",
      "| \"3BR/2.5BA New Luxury House,Eastside\" | \"House\"         | 199.0   | 0                  |\n",
      "| \"4BR/3BA Architectural Masterpiece\"   | \"House\"         | 499.0   | 333                |\n",
      "| \"3BR/2.5BA Beautiful Austin Property\" | \"House\"         | 400.0   | 334                |\n",
      "| \"5BR/3BA Superior East Downtown\"      | \"House\"         | 999.0   | 355                |\n",
      "| \"3BR/3BA Stylish, Upscale House\"      | \"House\"         | 700.0   | 337                |\n",
      "| \"3BR Prestigious Home Travis Heights\" | \"House\"         | 138.0   | 0                  |\n",
      "| \"3BR/2BA Stylish East Downtown Austi\" | \"House\"         | 650.0   | 354                |\n",
      "| \"2BR/2BA Modern Prime Downtown Home\"  | \"House\"         | 200.0   | 335                |\n",
      "| \"2BR Artists Den in Austin TX\"        | \"House\"         | 199.0   | 359                |\n",
      "| \"1 BR Downtown Condo\"                 | \"Apartment\"     | 220.0   | 347                |\n",
      "| \"2BR/1BA Austin Urban House\"          | \"House\"         | 599.0   | 26                 |\n",
      "| \"2BR/2BA South Austin With Pool\"      | \"House\"         | 157.0   | 219                |\n",
      "| \"5BR/2.5BA Zilker Deck House!\"        | \"House\"         | 458.0   | 346                |\n",
      "| \"3BR/2BA North Austin Oasis\"          | \"House\"         | 172.0   | 251                |\n",
      "| \"3BR/3BA Newly Built South Austin\"    | \"Apartment\"     | 599.0   | 0                  |\n",
      "| \"1BR Superb Downtown Condo.\"          | \"House\"         | 172.0   | 340                |\n",
      "| \"Modern Downtown Condo\"               | \"House\"         | 172.0   | 341                |\n",
      "| \"1BR Amazing Downtown Austin Condo\"   | \"Apartment\"     | 250.0   | 352                |\n",
      "| \"South Austin Gem Cottage\"            | \"House\"         | 399.0   | 362                |\n",
      "| \"1BR Superb Tarrytown Townhouse\"      | \"House\"         | 150.0   | 296                |\n",
      "| \"5BR West Austin with Pool, 8 acres\"  | \"House\"         | 459.0   | 330                |\n",
      "| \"3BR/2BA Magnificent Outdoor Living\"  | \"House\"         | 299.0   | 338                |\n",
      "| \"2BR East Austin Cozy Bird House\"     | \"House\"         | 150.0   | 247                |\n",
      "| \"5BR/2.5BA Central Austin, Modern\"    | \"House\"         | NULL    | 358                |\n",
      "| \"5BR/5BA Lake Double Decker BoatHous\" | \"House\"         | 650.0   | 364                |\n",
      "| \"3BR/1.5BA Charming House, Downtown\"  | \"House\"         | 199.0   | 353                |\n",
      "| \"1BR/1.5BA East 6th, Colorful 2Story\" | \"Apartment\"     | 134.0   | 344                |\n",
      "| \"3BR/3BA Custom Lake Austin Home\"     | \"House\"         | 250.0   | 0                  |\n",
      "| \"2BR/2.5BA Downtown Austin Penthouse\" | \"Apartment\"     | 350.0   | 333                |\n",
      "| \"2BR/2.5BA Stylish SoCo Condo\"        | \"Apartment\"     | 249.0   | 354                |\n",
      "| \"3BR/2BA Beautiful Zilker Park House\" | \"House\"         | 999.0   | 350                |\n",
      "| \"1BR Chic Studio, Hyde Park, Austin\"  | \"Apartment\"     | 149.0   | 354                |\n",
      "| \"3BR/2BA Downtown Austin Home\"        | \"House\"         | 299.0   | 189                |\n",
      "| \"1BR Chic Downtown Condo\"             | \"Apartment\"     | 250.0   | 352                |\n",
      "| \"2BR On Lake Austin, Boat Dock\"       | \"House\"         | 299.0   | 29                 |\n",
      "| \"2BR Prime East-Side Downtown\"        | \"House\"         | 121.0   | 341                |\n",
      "| \"7BR/4BA Unique House and Cottage\"    | \"House\"         | NULL    | 348                |\n",
      "| \"3BR/2.5BA Modern & Vibrant Austin\"   | \"House\"         | 350.0   | 0                  |\n",
      "| \"4BR/3BA Timeless House, South Lamar\" | \"House\"         | 399.0   | 337                |\n",
      "| \"3BR/2.5BA Warm & Luxurious House\"    | \"House\"         | 171.0   | 243                |\n",
      "| \"6BR/6BA Tarrytown Mansion\"           | \"House\"         | NULL    | 355                |\n",
      "| \"2BR Soco Music Lover's Paradise\"     | \"House\"         | 286.0   | 333                |\n",
      "| \"3BR/2BA Austin Pool, Hot Tub, View\"  | \"House\"         | 369.0   | 260                |\n",
      "+----------------------------------------------------------------------------------------+\n",
      "\n",
      "127 rows\n",
      "ready to start consuming query after 2 ms, results consumed after another 6 ms\n"
     ]
    }
   ],
   "source": [
    "!{CONNECT} \"MATCH (h:Host)-[r:HOSTS]->(l:Listing) WHERE h.host_id = '4641823' RETURN l.name, l.property_type, l.price, l.availability_365\""
   ]
  },
  {
   "cell_type": "code",
   "execution_count": 33,
   "id": "b71bac87-cf66-4245-8b0e-e0ba0a3f5e0f",
   "metadata": {},
   "outputs": [
    {
     "name": "stdout",
     "output_type": "stream",
     "text": [
      "+--------------------------------+\n",
      "| u.name            | u.user_id  |\n",
      "+--------------------------------+\n",
      "| \"Annie\"           | \"18286390\" |\n",
      "| \"Carole\"          | \"30193020\" |\n",
      "| \"Cory\"            | \"16497582\" |\n",
      "| \"Craig And Trina\" | \"35022795\" |\n",
      "| \"Dianne\"          | \"13281665\" |\n",
      "| \"Hannah\"          | \"29601600\" |\n",
      "| \"Jacob\"           | \"11940539\" |\n",
      "| \"Jessie\"          | \"3213433\"  |\n",
      "| \"Johannes\"        | \"41722221\" |\n",
      "| \"Ju-Ju\"           | \"28480571\" |\n",
      "+--------------------------------+\n",
      "\n",
      "10 rows\n",
      "ready to start consuming query after 74 ms, results consumed after another 2 ms\n"
     ]
    }
   ],
   "source": [
    "!{CONNECT} \"MATCH (u:User)-[r1:WROTE]->(r:Review)-[r2:REVIEWS]->(l:Listing) WHERE l.listing_id = '5293632' RETURN u.name, u.user_id ORDER BY u.name LIMIT 10\""
   ]
  },
  {
   "cell_type": "code",
   "execution_count": 38,
   "id": "2699cfd5-334e-4272-aacb-2a016b09deb1",
   "metadata": {},
   "outputs": [
    {
     "name": "stdout",
     "output_type": "stream",
     "text": [
      "+-----------------------+\n",
      "| u.name    | u.user_id |\n",
      "+-----------------------+\n",
      "| \"Andrew\"  | \"1627563\" |\n",
      "| \"Bryan\"   | \"1631432\" |\n",
      "| \"Cindy\"   | \"2784203\" |\n",
      "| \"Henrik\"  | \"416470\"  |\n",
      "| \"Scott\"   | \"386269\"  |\n",
      "| \"Thaniya\" | \"430392\"  |\n",
      "| \"Warren\"  | \"316879\"  |\n",
      "+-----------------------+\n",
      "\n",
      "7 rows\n",
      "ready to start consuming query after 68 ms, results consumed after another 1 ms\n"
     ]
    }
   ],
   "source": [
    "!{CONNECT} \"MATCH (u:User)-[r1:WROTE]->(r:Review)-[r2:REVIEWS]->(l:Listing)-[r3:HAS]->(a:Amenity) WHERE a.name = 'Washer / Dryer' RETURN u.name, u.user_id ORDER BY u.name LIMIT 10\""
   ]
  },
  {
   "cell_type": "code",
   "execution_count": 47,
   "id": "915e9248-7943-4141-baed-530b00efdaeb",
   "metadata": {},
   "outputs": [
    {
     "name": "stdout",
     "output_type": "stream",
     "text": [
      "+----------------------------------------------------------------------------------------+\n",
      "| l.name                                | l.property_type | l.price | l.availability_365 |\n",
      "+----------------------------------------------------------------------------------------+\n",
      "| \"3BR/2.5BA Exquisite Townhouse\"       | \"House\"         | 222.0   | 358                |\n",
      "| \"3BR/2.5BA Tarrytown Duplex, Austin!\" | \"House\"         | 249.0   | 336                |\n",
      "| \"Austin downtown hideaway\"            | \"House\"         | 249.0   | 364                |\n",
      "| \"3BD Luxury Cottage by Lake Austin\"   | \"House\"         | 290.0   | 309                |\n",
      "| \"Entire Adorable Downtown House\"      | \"House\"         | 295.0   | 309                |\n",
      "+----------------------------------------------------------------------------------------+\n",
      "\n",
      "5 rows\n",
      "ready to start consuming query after 54 ms, results consumed after another 2 ms\n"
     ]
    }
   ],
   "source": [
    "!{CONNECT} \"MATCH (l:Listing)-[r:IN_NEIGHBORHOOD]->(n:Neighborhood) WHERE (l.bedrooms = 3) AND (n.name ='Clarksville') RETURN l.name, l.property_type, l.price, l.availability_365 ORDER BY l.price LIMIT 5\""
   ]
  },
  {
   "cell_type": "code",
   "execution_count": 84,
   "id": "4e981f4d-e538-45ce-b61d-6644a367433d",
   "metadata": {},
   "outputs": [
    {
     "name": "stdout",
     "output_type": "stream",
     "text": [
      "+-----------------------------------+\n",
      "| a.name                     | c    |\n",
      "+-----------------------------------+\n",
      "| \"Air Conditioning\"         | 5615 |\n",
      "| \"Wireless Internet\"        | 5479 |\n",
      "| \"Heating\"                  | 5440 |\n",
      "| \"Kitchen\"                  | 5400 |\n",
      "| \"Free Parking on Premises\" | 5123 |\n",
      "+-----------------------------------+\n",
      "\n",
      "5 rows\n",
      "ready to start consuming query after 26 ms, results consumed after another 88 ms\n"
     ]
    }
   ],
   "source": [
    "!{CONNECT} \"MATCH (l:Listing)-[h:HAS]->(a:Amenity) RETURN a.name, count(a.name) as c ORDER BY c DESC LIMIT 5\""
   ]
  },
  {
   "cell_type": "code",
   "execution_count": 85,
   "id": "43e75a97-7c56-4018-ac44-b175ecc370a7",
   "metadata": {},
   "outputs": [
    {
     "name": "stdout",
     "output_type": "stream",
     "text": [
      "+--------------------------------------------+\n",
      "| n.name           | n.neighborhood_id | c   |\n",
      "+--------------------------------------------+\n",
      "| \"Clarksville\"    | \"78703\"           | 419 |\n",
      "| \"East Riverside\" | \"78741\"           | 414 |\n",
      "| \"Hancock\"        | \"78751\"           | 251 |\n",
      "| \"Hancock\"        | \"78705\"           | 242 |\n",
      "| \"Barton Hills\"   | \"78746\"           | 182 |\n",
      "+--------------------------------------------+\n",
      "\n",
      "5 rows\n",
      "ready to start consuming query after 33 ms, results consumed after another 6 ms\n"
     ]
    }
   ],
   "source": [
    "!{CONNECT} \"MATCH (l:Listing)-[h:IN_NEIGHBORHOOD]->(n:Neighborhood) WHERE n.name IS NOT NULL RETURN n.name, n.neighborhood_id, count(n.neighborhood_id) as c ORDER BY c DESC LIMIT 5\""
   ]
  },
  {
   "cell_type": "code",
   "execution_count": null,
   "id": "37dab2e1-4e4b-4917-b49b-151aa6848d09",
   "metadata": {},
   "outputs": [],
   "source": []
  }
 ],
 "metadata": {
  "environment": {
   "kernel": "python3",
   "name": "common-cpu.m87",
   "type": "gcloud",
   "uri": "gcr.io/deeplearning-platform-release/base-cpu:m87"
  },
  "kernelspec": {
   "display_name": "Python 3",
   "language": "python",
   "name": "python3"
  },
  "language_info": {
   "codemirror_mode": {
    "name": "ipython",
    "version": 3
   },
   "file_extension": ".py",
   "mimetype": "text/x-python",
   "name": "python",
   "nbconvert_exporter": "python",
   "pygments_lexer": "ipython3",
   "version": "3.7.12"
  }
 },
 "nbformat": 4,
 "nbformat_minor": 5
}
