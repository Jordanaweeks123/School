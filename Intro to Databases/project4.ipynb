{
 "cells": [
  {
   "cell_type": "markdown",
   "metadata": {},
   "source": [
    "### Starter code for Project 4. \n",
    "#### Run these cells before starting the assignment. "
   ]
  },
  {
   "cell_type": "markdown",
   "metadata": {},
   "source": [
    "#### 1. create BQ dataset:"
   ]
  },
  {
   "cell_type": "code",
   "execution_count": 23,
   "metadata": {},
   "outputs": [
    {
     "name": "stdout",
     "output_type": "stream",
     "text": [
      "env: dataset_id=school_enrollments\n"
     ]
    }
   ],
   "source": [
    "%env dataset_id=school_enrollments"
   ]
  },
  {
   "cell_type": "code",
   "execution_count": 24,
   "metadata": {},
   "outputs": [
    {
     "name": "stdout",
     "output_type": "stream",
     "text": [
      "BigQuery error in mk operation: Dataset 'reliable-\n",
      "sight-339421:school_enrollments' already exists.\n"
     ]
    }
   ],
   "source": [
    "!bq --location=US mk --dataset $dataset_id"
   ]
  },
  {
   "cell_type": "markdown",
   "metadata": {},
   "source": [
    "#### 2. create and populate BQ tables:"
   ]
  },
  {
   "cell_type": "code",
   "execution_count": 3,
   "metadata": {},
   "outputs": [],
   "source": [
    "import os"
   ]
  },
  {
   "cell_type": "code",
   "execution_count": 4,
   "metadata": {},
   "outputs": [
    {
     "name": "stdout",
     "output_type": "stream",
     "text": [
      "bq --location=US load --autodetect --skip_leading_rows=1 --source_format=CSV school_enrollments.ak gs://cs327e-open-access/stanford-school-enrollment/zf406jp4427_ak.csv\n",
      "\n"
     ]
    },
    {
     "name": "stderr",
     "output_type": "stream",
     "text": [
      "Waiting on bqjob_r52af853338eccb7e_0000017f52a93707_1 ... (2s) Current status: DONE   \n"
     ]
    },
    {
     "name": "stdout",
     "output_type": "stream",
     "text": [
      "bq --location=US load --autodetect --skip_leading_rows=1 --source_format=CSV school_enrollments.ar gs://cs327e-open-access/stanford-school-enrollment/zf406jp4427_ar.csv\n",
      "\n"
     ]
    },
    {
     "name": "stderr",
     "output_type": "stream",
     "text": [
      "Waiting on bqjob_r66a8c167051e5f4e_0000017f52a9499d_1 ... (3s) Current status: DONE   \n"
     ]
    },
    {
     "name": "stdout",
     "output_type": "stream",
     "text": [
      "bq --location=US load --autodetect --skip_leading_rows=1 --source_format=CSV school_enrollments.az gs://cs327e-open-access/stanford-school-enrollment/zf406jp4427_az.csv\n",
      "\n"
     ]
    },
    {
     "name": "stderr",
     "output_type": "stream",
     "text": [
      "Waiting on bqjob_r4df8556691c27545_0000017f52a96091_1 ... (6s) Current status: DONE   \n"
     ]
    },
    {
     "name": "stdout",
     "output_type": "stream",
     "text": [
      "bq --location=US load --autodetect --skip_leading_rows=1 --source_format=CSV school_enrollments.ca gs://cs327e-open-access/stanford-school-enrollment/zf406jp4427_ca.csv\n",
      "\n"
     ]
    },
    {
     "name": "stderr",
     "output_type": "stream",
     "text": [
      "Waiting on bqjob_r1e1de608391ac160_0000017f52a984da_1 ... (9s) Current status: DONE   \n"
     ]
    },
    {
     "name": "stdout",
     "output_type": "stream",
     "text": [
      "skipping co\n",
      "bq --location=US load --autodetect --skip_leading_rows=1 --source_format=CSV school_enrollments.ct gs://cs327e-open-access/stanford-school-enrollment/zf406jp4427_ct.csv\n",
      "\n"
     ]
    },
    {
     "name": "stderr",
     "output_type": "stream",
     "text": [
      "Waiting on bqjob_r1944f9ba3f1f1c6c_0000017f52a9b4dc_1 ... (3s) Current status: DONE   \n"
     ]
    },
    {
     "name": "stdout",
     "output_type": "stream",
     "text": [
      "skipping district\n",
      "skipping fl\n",
      "skipping ga\n",
      "bq --location=US load --autodetect --skip_leading_rows=1 --source_format=CSV school_enrollments.hi gs://cs327e-open-access/stanford-school-enrollment/zf406jp4427_hi.csv\n",
      "\n"
     ]
    },
    {
     "name": "stderr",
     "output_type": "stream",
     "text": [
      "Waiting on bqjob_r3970ecc3079f00f7_0000017f52a9cbf6_1 ... (2s) Current status: DONE   \n"
     ]
    },
    {
     "name": "stdout",
     "output_type": "stream",
     "text": [
      "skipping id\n",
      "bq --location=US load --autodetect --skip_leading_rows=1 --source_format=CSV school_enrollments.in gs://cs327e-open-access/stanford-school-enrollment/zf406jp4427_in.csv\n",
      "\n"
     ]
    },
    {
     "name": "stderr",
     "output_type": "stream",
     "text": [
      "Waiting on bqjob_r6513df276a47d8bb_0000017f52a9dea8_1 ... (4s) Current status: DONE   \n"
     ]
    },
    {
     "name": "stdout",
     "output_type": "stream",
     "text": [
      "bq --location=US load --autodetect --skip_leading_rows=1 --source_format=CSV school_enrollments.la gs://cs327e-open-access/stanford-school-enrollment/zf406jp4427_la.csv\n",
      "\n"
     ]
    },
    {
     "name": "stderr",
     "output_type": "stream",
     "text": [
      "Waiting on bqjob_r47fc9efe004ff374_0000017f52a9f9ff_1 ... (34s) Current status: DONE   \n"
     ]
    },
    {
     "name": "stdout",
     "output_type": "stream",
     "text": [
      "skipping ma\n",
      "bq --location=US load --autodetect --skip_leading_rows=1 --source_format=CSV school_enrollments.md gs://cs327e-open-access/stanford-school-enrollment/zf406jp4427_md.csv\n",
      "\n"
     ]
    },
    {
     "name": "stderr",
     "output_type": "stream",
     "text": [
      "Waiting on bqjob_r44c06ab5514b3369_0000017f52aa898f_1 ... (2s) Current status: DONE   \n"
     ]
    },
    {
     "name": "stdout",
     "output_type": "stream",
     "text": [
      "bq --location=US load --autodetect --skip_leading_rows=1 --source_format=CSV school_enrollments.mn gs://cs327e-open-access/stanford-school-enrollment/zf406jp4427_mn.csv\n",
      "\n"
     ]
    },
    {
     "name": "stderr",
     "output_type": "stream",
     "text": [
      "Waiting on bqjob_r734ba47b420ae81c_0000017f52aa9c07_1 ... (5s) Current status: DONE   \n"
     ]
    },
    {
     "name": "stdout",
     "output_type": "stream",
     "text": [
      "skipping mo\n",
      "bq --location=US load --autodetect --skip_leading_rows=1 --source_format=CSV school_enrollments.ms gs://cs327e-open-access/stanford-school-enrollment/zf406jp4427_ms.csv\n",
      "\n"
     ]
    },
    {
     "name": "stderr",
     "output_type": "stream",
     "text": [
      "Waiting on bqjob_r6a9bcf3ef5862aca_0000017f52aabb55_1 ... (1s) Current status: DONE   \n"
     ]
    },
    {
     "name": "stdout",
     "output_type": "stream",
     "text": [
      "skipping ne\n",
      "bq --location=US load --autodetect --skip_leading_rows=1 --source_format=CSV school_enrollments.nh gs://cs327e-open-access/stanford-school-enrollment/zf406jp4427_nh.csv\n",
      "\n"
     ]
    },
    {
     "name": "stderr",
     "output_type": "stream",
     "text": [
      "Waiting on bqjob_r1f283c6bc4d5f047_0000017f52aacacf_1 ... (2s) Current status: DONE   \n"
     ]
    },
    {
     "name": "stdout",
     "output_type": "stream",
     "text": [
      "bq --location=US load --autodetect --skip_leading_rows=1 --source_format=CSV school_enrollments.nj gs://cs327e-open-access/stanford-school-enrollment/zf406jp4427_nj.csv\n",
      "\n"
     ]
    },
    {
     "name": "stderr",
     "output_type": "stream",
     "text": [
      "Waiting on bqjob_r6fdf42f56f41c451_0000017f52aadde5_1 ... (1s) Current status: DONE   \n"
     ]
    },
    {
     "name": "stdout",
     "output_type": "stream",
     "text": [
      "BigQuery error in load operation: Error processing job 'reliable-\n",
      "sight-339421:bqjob_r6fdf42f56f41c451_0000017f52aadde5_1': Error while reading\n",
      "data, error message: Could not parse 'N' as INT64 for field\n",
      "ccd_district_high_grade (position 12) starting at location 2800632  with message\n",
      "'Unable to parse'\n",
      "Failure details:\n",
      "- Error while reading data, error message: CSV processing encountered\n",
      "too many errors, giving up. Rows: 12208; errors: 1; max bad: 0;\n",
      "error percent: 0\n",
      "- query: Could not parse 'N' as INT64 for field\n",
      "ccd_district_high_grade (position 12) starting at location 2800632\n",
      "with message 'Unable to parse'\n",
      "bq --location=US load --autodetect --skip_leading_rows=1 --source_format=CSV school_enrollments.nm gs://cs327e-open-access/stanford-school-enrollment/zf406jp4427_nm.csv\n",
      "\n"
     ]
    },
    {
     "name": "stderr",
     "output_type": "stream",
     "text": [
      "Waiting on bqjob_r1e1bcfce235b81e7_0000017f52aaec5a_1 ... (2s) Current status: DONE   \n"
     ]
    },
    {
     "name": "stdout",
     "output_type": "stream",
     "text": [
      "bq --location=US load --autodetect --skip_leading_rows=1 --source_format=CSV school_enrollments.nv gs://cs327e-open-access/stanford-school-enrollment/zf406jp4427_nv.csv\n",
      "\n"
     ]
    },
    {
     "name": "stderr",
     "output_type": "stream",
     "text": [
      "Waiting on bqjob_rfa4ad95f09ef23a_0000017f52aafebe_1 ... (2s) Current status: DONE   \n"
     ]
    },
    {
     "name": "stdout",
     "output_type": "stream",
     "text": [
      "skipping ny\n",
      "bq --location=US load --autodetect --skip_leading_rows=1 --source_format=CSV school_enrollments.ok gs://cs327e-open-access/stanford-school-enrollment/zf406jp4427_ok.csv\n",
      "\n"
     ]
    },
    {
     "name": "stderr",
     "output_type": "stream",
     "text": [
      "Waiting on bqjob_rd213886911156e3_0000017f52ab111c_1 ... (7s) Current status: DONE   \n"
     ]
    },
    {
     "name": "stdout",
     "output_type": "stream",
     "text": [
      "skipping or\n",
      "bq --location=US load --autodetect --skip_leading_rows=1 --source_format=CSV school_enrollments.pa gs://cs327e-open-access/stanford-school-enrollment/zf406jp4427_pa.csv\n",
      "\n"
     ]
    },
    {
     "name": "stderr",
     "output_type": "stream",
     "text": [
      "Waiting on bqjob_r733358f94ad71da7_0000017f52ab3920_1 ... (5s) Current status: DONE   \n"
     ]
    },
    {
     "name": "stdout",
     "output_type": "stream",
     "text": [
      "bq --location=US load --autodetect --skip_leading_rows=1 --source_format=CSV school_enrollments.sc gs://cs327e-open-access/stanford-school-enrollment/zf406jp4427_sc.csv\n",
      "\n"
     ]
    },
    {
     "name": "stderr",
     "output_type": "stream",
     "text": [
      "Waiting on bqjob_r6d0c842d42e17dcd_0000017f52ab5848_1 ... (2s) Current status: DONE   \n"
     ]
    },
    {
     "name": "stdout",
     "output_type": "stream",
     "text": [
      "skipping school\n",
      "skipping sd\n",
      "bq --location=US load --autodetect --skip_leading_rows=1 --source_format=CSV school_enrollments.tx gs://cs327e-open-access/stanford-school-enrollment/zf406jp4427_tx.csv\n",
      "\n"
     ]
    },
    {
     "name": "stderr",
     "output_type": "stream",
     "text": [
      "Waiting on bqjob_r579ac3e6c8c0eb4a_0000017f52ab6ace_1 ... (4s) Current status: DONE   \n"
     ]
    },
    {
     "name": "stdout",
     "output_type": "stream",
     "text": [
      "bq --location=US load --autodetect --skip_leading_rows=1 --source_format=CSV school_enrollments.ut gs://cs327e-open-access/stanford-school-enrollment/zf406jp4427_ut.csv\n",
      "\n"
     ]
    },
    {
     "name": "stderr",
     "output_type": "stream",
     "text": [
      "Waiting on bqjob_r228d316d9a6fe891_0000017f52ab8638_1 ... (2s) Current status: DONE   \n"
     ]
    },
    {
     "name": "stdout",
     "output_type": "stream",
     "text": [
      "bq --location=US load --autodetect --skip_leading_rows=1 --source_format=CSV school_enrollments.wa gs://cs327e-open-access/stanford-school-enrollment/zf406jp4427_wa.csv\n",
      "\n"
     ]
    },
    {
     "name": "stderr",
     "output_type": "stream",
     "text": [
      "Waiting on bqjob_r700b26d90f87785c_0000017f52ab98dd_1 ... (4s) Current status: DONE   \n"
     ]
    },
    {
     "name": "stdout",
     "output_type": "stream",
     "text": [
      "skipping wi\n",
      "bq --location=US load --autodetect --skip_leading_rows=1 --source_format=CSV school_enrollments.wy gs://cs327e-open-access/stanford-school-enrollment/zf406jp4427_wy.csv\n",
      "\n"
     ]
    },
    {
     "name": "stderr",
     "output_type": "stream",
     "text": [
      "Waiting on bqjob_r29de8e81b7aed103_0000017f52abb38a_1 ... (2s) Current status: DONE   \n"
     ]
    }
   ],
   "source": [
    "gsutil_cmd = \"gsutil ls gs://cs327e-open-access/stanford-school-enrollment/*\"\n",
    "file_listings = os.popen(gsutil_cmd)\n",
    "dataset=\"school_enrollments\"\n",
    "\n",
    "for file in file_listings:\n",
    "\n",
    "    start_index = file.rindex(\"_\") + 1\n",
    "    end_index = file.rindex(\".\")\n",
    "    table = file[start_index:end_index]\n",
    "    \n",
    "    if table in (\"co\", \"district\", \"fl\", \"ga\", \"id\", \"ma\", \"mo\", \"ne\", \"ny\", \"or\", \"school\", \"sd\", \"wi\"):\n",
    "        print(\"skipping \" + table)\n",
    "        continue\n",
    "\n",
    "    bq_cmd = \"bq --location=US load --autodetect --skip_leading_rows=1 \"\\\n",
    "             \"--source_format=CSV \" + dataset + \".\" + table + ' ' + file\n",
    "    print(bq_cmd)\n",
    "    \n",
    "    os.system(bq_cmd)"
   ]
  },
  {
   "cell_type": "markdown",
   "metadata": {},
   "source": [
    "#### 3. Find school enrollments by school name, grade level, and year for Texas "
   ]
  },
  {
   "cell_type": "code",
   "execution_count": 5,
   "metadata": {
    "tags": []
   },
   "outputs": [
    {
     "name": "stdout",
     "output_type": "stream",
     "text": [
      "[{\"name\":\"state\",\"type\":\"STRING\",\"mode\":\"NULLABLE\"},{\"name\":\"county\",\"type\":\"STRING\",\"mode\":\"NULLABLE\"},{\"name\":\"county_state_id\",\"type\":\"STRING\",\"mode\":\"NULLABLE\"},{\"name\":\"admin_level\",\"type\":\"STRING\",\"mode\":\"NULLABLE\"},{\"name\":\"district_nces_id\",\"type\":\"INTEGER\",\"mode\":\"NULLABLE\"},{\"name\":\"district_state_id\",\"type\":\"INTEGER\",\"mode\":\"NULLABLE\"},{\"name\":\"district_state_type\",\"type\":\"STRING\",\"mode\":\"NULLABLE\"},{\"name\":\"district\",\"type\":\"STRING\",\"mode\":\"NULLABLE\"},{\"name\":\"ccd_district_type\",\"type\":\"STRING\",\"mode\":\"NULLABLE\"},{\"name\":\"ccd_charter\",\"type\":\"STRING\",\"mode\":\"NULLABLE\"},{\"name\":\"ccd_district_lvl\",\"type\":\"STRING\",\"mode\":\"NULLABLE\"},{\"name\":\"ccd_district_low_grade\",\"type\":\"STRING\",\"mode\":\"NULLABLE\"},{\"name\":\"ccd_district_high_grade\",\"type\":\"STRING\",\"mode\":\"NULLABLE\"},{\"name\":\"school_nces_id\",\"type\":\"INTEGER\",\"mode\":\"NULLABLE\"},{\"name\":\"school_state_id\",\"type\":\"FLOAT\",\"mode\":\"NULLABLE\"},{\"name\":\"school\",\"type\":\"STRING\",\"mode\":\"NULLABLE\"},{\"name\":\"school_state_type\",\"type\":\"STRING\",\"mode\":\"NULLABLE\"},{\"name\":\"ccd_school_type\",\"type\":\"STRING\",\"mode\":\"NULLABLE\"},{\"name\":\"ccd_charter_school\",\"type\":\"BOOLEAN\",\"mode\":\"NULLABLE\"},{\"name\":\"ccd_school_lvl\",\"type\":\"STRING\",\"mode\":\"NULLABLE\"},{\"name\":\"ccd_school_low_grade\",\"type\":\"STRING\",\"mode\":\"NULLABLE\"},{\"name\":\"ccd_school_high_grade\",\"type\":\"STRING\",\"mode\":\"NULLABLE\"},{\"name\":\"year\",\"type\":\"INTEGER\",\"mode\":\"NULLABLE\"},{\"name\":\"term\",\"type\":\"STRING\",\"mode\":\"NULLABLE\"},{\"name\":\"grade\",\"type\":\"STRING\",\"mode\":\"NULLABLE\"},{\"name\":\"white\",\"type\":\"STRING\",\"mode\":\"NULLABLE\"},{\"name\":\"black\",\"type\":\"STRING\",\"mode\":\"NULLABLE\"},{\"name\":\"hispanic\",\"type\":\"STRING\",\"mode\":\"NULLABLE\"},{\"name\":\"native_american\",\"type\":\"STRING\",\"mode\":\"NULLABLE\"},{\"name\":\"native_american_alaskan_native\",\"type\":\"STRING\",\"mode\":\"NULLABLE\"},{\"name\":\"asian\",\"type\":\"STRING\",\"mode\":\"NULLABLE\"},{\"name\":\"native_hawaiian\",\"type\":\"STRING\",\"mode\":\"NULLABLE\"},{\"name\":\"asian_pacific_islander\",\"type\":\"STRING\",\"mode\":\"NULLABLE\"},{\"name\":\"native_hawaiian_pacific_islander\",\"type\":\"STRING\",\"mode\":\"NULLABLE\"},{\"name\":\"pacific_islander\",\"type\":\"STRING\",\"mode\":\"NULLABLE\"},{\"name\":\"multiracial\",\"type\":\"STRING\",\"mode\":\"NULLABLE\"},{\"name\":\"unknown_race\",\"type\":\"STRING\",\"mode\":\"NULLABLE\"},{\"name\":\"male\",\"type\":\"STRING\",\"mode\":\"NULLABLE\"},{\"name\":\"female\",\"type\":\"STRING\",\"mode\":\"NULLABLE\"},{\"name\":\"non_binary\",\"type\":\"STRING\",\"mode\":\"NULLABLE\"},{\"name\":\"unknown_gender\",\"type\":\"STRING\",\"mode\":\"NULLABLE\"},{\"name\":\"ell\",\"type\":\"STRING\",\"mode\":\"NULLABLE\"},{\"name\":\"ell_percent\",\"type\":\"STRING\",\"mode\":\"NULLABLE\"},{\"name\":\"homeless\",\"type\":\"STRING\",\"mode\":\"NULLABLE\"},{\"name\":\"homeless_percent\",\"type\":\"STRING\",\"mode\":\"NULLABLE\"},{\"name\":\"low_income\",\"type\":\"STRING\",\"mode\":\"NULLABLE\"},{\"name\":\"free_and_reduced\",\"type\":\"STRING\",\"mode\":\"NULLABLE\"},{\"name\":\"free_and_reduced_percent\",\"type\":\"STRING\",\"mode\":\"NULLABLE\"},{\"name\":\"disability\",\"type\":\"STRING\",\"mode\":\"NULLABLE\"},{\"name\":\"section_504\",\"type\":\"STRING\",\"mode\":\"NULLABLE\"},{\"name\":\"total\",\"type\":\"STRING\",\"mode\":\"NULLABLE\"}]\n"
     ]
    }
   ],
   "source": [
    "!bq show --schema=true $dataset_id.tx"
   ]
  },
  {
   "cell_type": "markdown",
   "metadata": {
    "tags": []
   },
   "source": [
    "#### Note: STRING type for \"total\" column"
   ]
  },
  {
   "cell_type": "code",
   "execution_count": 6,
   "metadata": {},
   "outputs": [
    {
     "name": "stderr",
     "output_type": "stream",
     "text": [
      "Query complete after 0.00s: 100%|██████████| 3/3 [00:00<00:00, 1878.89query/s]                        \n",
      "Downloading: 100%|██████████| 1739/1739 [00:01<00:00, 1147.43rows/s]\n"
     ]
    },
    {
     "data": {
      "text/html": [
       "<div>\n",
       "<style scoped>\n",
       "    .dataframe tbody tr th:only-of-type {\n",
       "        vertical-align: middle;\n",
       "    }\n",
       "\n",
       "    .dataframe tbody tr th {\n",
       "        vertical-align: top;\n",
       "    }\n",
       "\n",
       "    .dataframe thead th {\n",
       "        text-align: right;\n",
       "    }\n",
       "</style>\n",
       "<table border=\"1\" class=\"dataframe\">\n",
       "  <thead>\n",
       "    <tr style=\"text-align: right;\">\n",
       "      <th></th>\n",
       "      <th>school</th>\n",
       "      <th>grade</th>\n",
       "      <th>year</th>\n",
       "      <th>total</th>\n",
       "    </tr>\n",
       "  </thead>\n",
       "  <tbody>\n",
       "    <tr>\n",
       "      <th>0</th>\n",
       "      <td>AKINS H S</td>\n",
       "      <td>grade_10</td>\n",
       "      <td>2020</td>\n",
       "      <td>1440</td>\n",
       "    </tr>\n",
       "    <tr>\n",
       "      <th>1</th>\n",
       "      <td>AKINS H S</td>\n",
       "      <td>grade_10</td>\n",
       "      <td>2021</td>\n",
       "      <td>1494</td>\n",
       "    </tr>\n",
       "    <tr>\n",
       "      <th>2</th>\n",
       "      <td>AKINS H S</td>\n",
       "      <td>grade_11</td>\n",
       "      <td>2020</td>\n",
       "      <td>1328</td>\n",
       "    </tr>\n",
       "    <tr>\n",
       "      <th>3</th>\n",
       "      <td>AKINS H S</td>\n",
       "      <td>grade_11</td>\n",
       "      <td>2021</td>\n",
       "      <td>1326</td>\n",
       "    </tr>\n",
       "    <tr>\n",
       "      <th>4</th>\n",
       "      <td>AKINS H S</td>\n",
       "      <td>grade_12</td>\n",
       "      <td>2020</td>\n",
       "      <td>1218</td>\n",
       "    </tr>\n",
       "    <tr>\n",
       "      <th>...</th>\n",
       "      <td>...</td>\n",
       "      <td>...</td>\n",
       "      <td>...</td>\n",
       "      <td>...</td>\n",
       "    </tr>\n",
       "    <tr>\n",
       "      <th>1734</th>\n",
       "      <td>ZILKER EL</td>\n",
       "      <td>grade_5</td>\n",
       "      <td>2021</td>\n",
       "      <td>138</td>\n",
       "    </tr>\n",
       "    <tr>\n",
       "      <th>1735</th>\n",
       "      <td>ZILKER EL</td>\n",
       "      <td>kindergarten</td>\n",
       "      <td>2020</td>\n",
       "      <td>154</td>\n",
       "    </tr>\n",
       "    <tr>\n",
       "      <th>1736</th>\n",
       "      <td>ZILKER EL</td>\n",
       "      <td>kindergarten</td>\n",
       "      <td>2021</td>\n",
       "      <td>126</td>\n",
       "    </tr>\n",
       "    <tr>\n",
       "      <th>1737</th>\n",
       "      <td>ZILKER EL</td>\n",
       "      <td>pre_kindergarten</td>\n",
       "      <td>2020</td>\n",
       "      <td>60</td>\n",
       "    </tr>\n",
       "    <tr>\n",
       "      <th>1738</th>\n",
       "      <td>ZILKER EL</td>\n",
       "      <td>pre_kindergarten</td>\n",
       "      <td>2021</td>\n",
       "      <td>26</td>\n",
       "    </tr>\n",
       "  </tbody>\n",
       "</table>\n",
       "<p>1739 rows × 4 columns</p>\n",
       "</div>"
      ],
      "text/plain": [
       "         school             grade  year  total\n",
       "0     AKINS H S          grade_10  2020   1440\n",
       "1     AKINS H S          grade_10  2021   1494\n",
       "2     AKINS H S          grade_11  2020   1328\n",
       "3     AKINS H S          grade_11  2021   1326\n",
       "4     AKINS H S          grade_12  2020   1218\n",
       "...         ...               ...   ...    ...\n",
       "1734  ZILKER EL           grade_5  2021    138\n",
       "1735  ZILKER EL      kindergarten  2020    154\n",
       "1736  ZILKER EL      kindergarten  2021    126\n",
       "1737  ZILKER EL  pre_kindergarten  2020     60\n",
       "1738  ZILKER EL  pre_kindergarten  2021     26\n",
       "\n",
       "[1739 rows x 4 columns]"
      ]
     },
     "execution_count": 6,
     "metadata": {},
     "output_type": "execute_result"
    }
   ],
   "source": [
    "%%bigquery\n",
    "select school, grade, year, sum(cast(replace(replace(total, \",\", \"\"), \"<\", \"\") as int64)) as total\n",
    "from school_enrollments.tx\n",
    "where total != \"\" and school != \"\" and district like '%AUSTIN%'\n",
    "group by school, grade, year\n",
    "order by school, grade, year"
   ]
  },
  {
   "cell_type": "markdown",
   "metadata": {},
   "source": [
    "##### Documentation on BQ's string functions: https://cloud.google.com/bigquery/docs/reference/standard-sql/string_functions"
   ]
  },
  {
   "cell_type": "code",
   "execution_count": 7,
   "metadata": {},
   "outputs": [
    {
     "name": "stdout",
     "output_type": "stream",
     "text": [
      "BigQuery error in mk operation: Dataset 'reliable-sight-339421:views' already\n",
      "exists.\n"
     ]
    }
   ],
   "source": [
    "!bq --location=US mk --dataset \"views\""
   ]
  },
  {
   "cell_type": "code",
   "execution_count": 8,
   "metadata": {},
   "outputs": [
    {
     "name": "stdout",
     "output_type": "stream",
     "text": [
      "Executing query with job ID: 0ea3cb8b-aa65-46aa-aeb0-067be98a2c99\n",
      "Query executing: 0.34s"
     ]
    },
    {
     "name": "stderr",
     "output_type": "stream",
     "text": [
      "\n",
      "ERROR:\n",
      " 409 Already Exists: Table reliable-sight-339421:views.austin_enrollments_by_school_grade_year\n",
      "\n",
      "(job ID: 0ea3cb8b-aa65-46aa-aeb0-067be98a2c99)\n",
      "\n",
      "                                    -----Query Job SQL Follows-----                                    \n",
      "\n",
      "    |    .    |    .    |    .    |    .    |    .    |    .    |    .    |    .    |    .    |\n",
      "   1:create view views.austin_enrollments_by_school_grade_year as\n",
      "   2:select school, grade, year, sum(cast(replace(replace(total, \",\", \"\"), \"<\", \"\") as int64)) as total\n",
      "   3:from school_enrollments.tx\n",
      "   4:where total != \"\" and school != \"\" and district like '%AUSTIN%'\n",
      "   5:group by school, grade, year\n",
      "   6:order by school, grade, year\n",
      "    |    .    |    .    |    .    |    .    |    .    |    .    |    .    |    .    |    .    |\n"
     ]
    }
   ],
   "source": [
    "%%bigquery\n",
    "create view views.austin_enrollments_by_school_grade_year as\n",
    "select school, grade, year, sum(cast(replace(replace(total, \",\", \"\"), \"<\", \"\") as int64)) as total\n",
    "from school_enrollments.tx\n",
    "where total != \"\" and school != \"\" and district like '%AUSTIN%'\n",
    "group by school, grade, year\n",
    "order by school, grade, year"
   ]
  },
  {
   "cell_type": "code",
   "execution_count": 9,
   "metadata": {},
   "outputs": [
    {
     "name": "stderr",
     "output_type": "stream",
     "text": [
      "Query complete after 0.00s: 100%|██████████| 3/3 [00:00<00:00, 1054.29query/s]                        \n",
      "Downloading: 100%|██████████| 1739/1739 [00:01<00:00, 1200.21rows/s]\n"
     ]
    },
    {
     "data": {
      "text/html": [
       "<div>\n",
       "<style scoped>\n",
       "    .dataframe tbody tr th:only-of-type {\n",
       "        vertical-align: middle;\n",
       "    }\n",
       "\n",
       "    .dataframe tbody tr th {\n",
       "        vertical-align: top;\n",
       "    }\n",
       "\n",
       "    .dataframe thead th {\n",
       "        text-align: right;\n",
       "    }\n",
       "</style>\n",
       "<table border=\"1\" class=\"dataframe\">\n",
       "  <thead>\n",
       "    <tr style=\"text-align: right;\">\n",
       "      <th></th>\n",
       "      <th>school</th>\n",
       "      <th>grade</th>\n",
       "      <th>year</th>\n",
       "      <th>total</th>\n",
       "    </tr>\n",
       "  </thead>\n",
       "  <tbody>\n",
       "    <tr>\n",
       "      <th>0</th>\n",
       "      <td>AKINS H S</td>\n",
       "      <td>grade_10</td>\n",
       "      <td>2020</td>\n",
       "      <td>1440</td>\n",
       "    </tr>\n",
       "    <tr>\n",
       "      <th>1</th>\n",
       "      <td>AKINS H S</td>\n",
       "      <td>grade_10</td>\n",
       "      <td>2021</td>\n",
       "      <td>1494</td>\n",
       "    </tr>\n",
       "    <tr>\n",
       "      <th>2</th>\n",
       "      <td>AKINS H S</td>\n",
       "      <td>grade_11</td>\n",
       "      <td>2020</td>\n",
       "      <td>1328</td>\n",
       "    </tr>\n",
       "    <tr>\n",
       "      <th>3</th>\n",
       "      <td>AKINS H S</td>\n",
       "      <td>grade_11</td>\n",
       "      <td>2021</td>\n",
       "      <td>1326</td>\n",
       "    </tr>\n",
       "    <tr>\n",
       "      <th>4</th>\n",
       "      <td>AKINS H S</td>\n",
       "      <td>grade_12</td>\n",
       "      <td>2020</td>\n",
       "      <td>1218</td>\n",
       "    </tr>\n",
       "    <tr>\n",
       "      <th>...</th>\n",
       "      <td>...</td>\n",
       "      <td>...</td>\n",
       "      <td>...</td>\n",
       "      <td>...</td>\n",
       "    </tr>\n",
       "    <tr>\n",
       "      <th>1734</th>\n",
       "      <td>ZILKER EL</td>\n",
       "      <td>grade_5</td>\n",
       "      <td>2021</td>\n",
       "      <td>138</td>\n",
       "    </tr>\n",
       "    <tr>\n",
       "      <th>1735</th>\n",
       "      <td>ZILKER EL</td>\n",
       "      <td>kindergarten</td>\n",
       "      <td>2020</td>\n",
       "      <td>154</td>\n",
       "    </tr>\n",
       "    <tr>\n",
       "      <th>1736</th>\n",
       "      <td>ZILKER EL</td>\n",
       "      <td>kindergarten</td>\n",
       "      <td>2021</td>\n",
       "      <td>126</td>\n",
       "    </tr>\n",
       "    <tr>\n",
       "      <th>1737</th>\n",
       "      <td>ZILKER EL</td>\n",
       "      <td>pre_kindergarten</td>\n",
       "      <td>2020</td>\n",
       "      <td>60</td>\n",
       "    </tr>\n",
       "    <tr>\n",
       "      <th>1738</th>\n",
       "      <td>ZILKER EL</td>\n",
       "      <td>pre_kindergarten</td>\n",
       "      <td>2021</td>\n",
       "      <td>26</td>\n",
       "    </tr>\n",
       "  </tbody>\n",
       "</table>\n",
       "<p>1739 rows × 4 columns</p>\n",
       "</div>"
      ],
      "text/plain": [
       "         school             grade  year  total\n",
       "0     AKINS H S          grade_10  2020   1440\n",
       "1     AKINS H S          grade_10  2021   1494\n",
       "2     AKINS H S          grade_11  2020   1328\n",
       "3     AKINS H S          grade_11  2021   1326\n",
       "4     AKINS H S          grade_12  2020   1218\n",
       "...         ...               ...   ...    ...\n",
       "1734  ZILKER EL           grade_5  2021    138\n",
       "1735  ZILKER EL      kindergarten  2020    154\n",
       "1736  ZILKER EL      kindergarten  2021    126\n",
       "1737  ZILKER EL  pre_kindergarten  2020     60\n",
       "1738  ZILKER EL  pre_kindergarten  2021     26\n",
       "\n",
       "[1739 rows x 4 columns]"
      ]
     },
     "execution_count": 9,
     "metadata": {},
     "output_type": "execute_result"
    }
   ],
   "source": [
    "%%bigquery\n",
    "select * from views.austin_enrollments_by_school_grade_year"
   ]
  },
  {
   "cell_type": "markdown",
   "metadata": {},
   "source": [
    "#### 4. Open Data Studio and create a chart from this view:\n",
    "##### https://datastudio.google.com/"
   ]
  },
  {
   "cell_type": "markdown",
   "metadata": {},
   "source": [
    "#### Project 4 homework marker. Start homework from here. "
   ]
  },
  {
   "cell_type": "markdown",
   "metadata": {},
   "source": []
  },
  {
   "cell_type": "code",
   "execution_count": 138,
   "metadata": {},
   "outputs": [
    {
     "name": "stderr",
     "output_type": "stream",
     "text": [
      "Query complete after 0.00s: 100%|██████████| 1/1 [00:00<00:00, 1004.86query/s]\n",
      "Downloading: 100%|██████████| 8089/8089 [00:01<00:00, 6719.47rows/s]\n"
     ]
    },
    {
     "data": {
      "text/html": [
       "<div>\n",
       "<style scoped>\n",
       "    .dataframe tbody tr th:only-of-type {\n",
       "        vertical-align: middle;\n",
       "    }\n",
       "\n",
       "    .dataframe tbody tr th {\n",
       "        vertical-align: top;\n",
       "    }\n",
       "\n",
       "    .dataframe thead th {\n",
       "        text-align: right;\n",
       "    }\n",
       "</style>\n",
       "<table border=\"1\" class=\"dataframe\">\n",
       "  <thead>\n",
       "    <tr style=\"text-align: right;\">\n",
       "      <th></th>\n",
       "      <th>school</th>\n",
       "      <th>female</th>\n",
       "    </tr>\n",
       "  </thead>\n",
       "  <tbody>\n",
       "    <tr>\n",
       "      <th>0</th>\n",
       "      <td></td>\n",
       "      <td>10606718</td>\n",
       "    </tr>\n",
       "    <tr>\n",
       "      <th>1</th>\n",
       "      <td>MEMORIAL H S</td>\n",
       "      <td>18908</td>\n",
       "    </tr>\n",
       "    <tr>\n",
       "      <th>2</th>\n",
       "      <td>TEXAS VIRTUAL ACADEMY AT HALLSVILL</td>\n",
       "      <td>18650</td>\n",
       "    </tr>\n",
       "    <tr>\n",
       "      <th>3</th>\n",
       "      <td>TEXAS CONNECTIONS ACADEMY AT HOUST</td>\n",
       "      <td>16830</td>\n",
       "    </tr>\n",
       "    <tr>\n",
       "      <th>4</th>\n",
       "      <td>MACARTHUR H S</td>\n",
       "      <td>16616</td>\n",
       "    </tr>\n",
       "    <tr>\n",
       "      <th>...</th>\n",
       "      <td>...</td>\n",
       "      <td>...</td>\n",
       "    </tr>\n",
       "    <tr>\n",
       "      <th>8084</th>\n",
       "      <td>WILLIAMSON CO J J A E P</td>\n",
       "      <td>20</td>\n",
       "    </tr>\n",
       "    <tr>\n",
       "      <th>8085</th>\n",
       "      <td>WILLIAMSON COUNTY CORE</td>\n",
       "      <td>20</td>\n",
       "    </tr>\n",
       "    <tr>\n",
       "      <th>8086</th>\n",
       "      <td>WILSON COUNTY BOOT CAMP</td>\n",
       "      <td>20</td>\n",
       "    </tr>\n",
       "    <tr>\n",
       "      <th>8087</th>\n",
       "      <td>WINTERS/FAIRVIEW AEP</td>\n",
       "      <td>20</td>\n",
       "    </tr>\n",
       "    <tr>\n",
       "      <th>8088</th>\n",
       "      <td>WOMEN'S HAVEN</td>\n",
       "      <td>20</td>\n",
       "    </tr>\n",
       "  </tbody>\n",
       "</table>\n",
       "<p>8089 rows × 2 columns</p>\n",
       "</div>"
      ],
      "text/plain": [
       "                                  school    female\n",
       "0                                         10606718\n",
       "1                           MEMORIAL H S     18908\n",
       "2     TEXAS VIRTUAL ACADEMY AT HALLSVILL     18650\n",
       "3     TEXAS CONNECTIONS ACADEMY AT HOUST     16830\n",
       "4                          MACARTHUR H S     16616\n",
       "...                                  ...       ...\n",
       "8084             WILLIAMSON CO J J A E P        20\n",
       "8085              WILLIAMSON COUNTY CORE        20\n",
       "8086             WILSON COUNTY BOOT CAMP        20\n",
       "8087                WINTERS/FAIRVIEW AEP        20\n",
       "8088                       WOMEN'S HAVEN        20\n",
       "\n",
       "[8089 rows x 2 columns]"
      ]
     },
     "execution_count": 138,
     "metadata": {},
     "output_type": "execute_result"
    }
   ],
   "source": [
    "%%bigquery\n",
    "select school, sum(cast(replace(replace(female, \",\", \"\"), \"<\", \"\") as int64)) as female\n",
    "from school_enrollments.tx\n",
    "where female != \"\"\n",
    "group by school\n",
    "order by female DESC, school"
   ]
  },
  {
   "cell_type": "markdown",
   "metadata": {},
   "source": []
  },
  {
   "cell_type": "code",
   "execution_count": 149,
   "metadata": {},
   "outputs": [
    {
     "name": "stderr",
     "output_type": "stream",
     "text": [
      "Query complete after 0.00s: 100%|██████████| 5/5 [00:00<00:00, 3380.87query/s]                        \n",
      "Downloading: 100%|██████████| 8/8 [00:01<00:00,  6.25rows/s]\n"
     ]
    },
    {
     "data": {
      "text/html": [
       "<div>\n",
       "<style scoped>\n",
       "    .dataframe tbody tr th:only-of-type {\n",
       "        vertical-align: middle;\n",
       "    }\n",
       "\n",
       "    .dataframe tbody tr th {\n",
       "        vertical-align: top;\n",
       "    }\n",
       "\n",
       "    .dataframe thead th {\n",
       "        text-align: right;\n",
       "    }\n",
       "</style>\n",
       "<table border=\"1\" class=\"dataframe\">\n",
       "  <thead>\n",
       "    <tr style=\"text-align: right;\">\n",
       "      <th></th>\n",
       "      <th>ccd_district_type</th>\n",
       "      <th>f0_</th>\n",
       "    </tr>\n",
       "  </thead>\n",
       "  <tbody>\n",
       "    <tr>\n",
       "      <th>0</th>\n",
       "      <td></td>\n",
       "      <td>296464</td>\n",
       "    </tr>\n",
       "    <tr>\n",
       "      <th>1</th>\n",
       "      <td></td>\n",
       "      <td>117786</td>\n",
       "    </tr>\n",
       "    <tr>\n",
       "      <th>2</th>\n",
       "      <td>1.0</td>\n",
       "      <td>31726</td>\n",
       "    </tr>\n",
       "    <tr>\n",
       "      <th>3</th>\n",
       "      <td>1.0</td>\n",
       "      <td>27468</td>\n",
       "    </tr>\n",
       "    <tr>\n",
       "      <th>4</th>\n",
       "      <td>7.0</td>\n",
       "      <td>3914</td>\n",
       "    </tr>\n",
       "    <tr>\n",
       "      <th>5</th>\n",
       "      <td>2.0</td>\n",
       "      <td>280</td>\n",
       "    </tr>\n",
       "    <tr>\n",
       "      <th>6</th>\n",
       "      <td>7.0</td>\n",
       "      <td>224</td>\n",
       "    </tr>\n",
       "    <tr>\n",
       "      <th>7</th>\n",
       "      <td>5.0</td>\n",
       "      <td>112</td>\n",
       "    </tr>\n",
       "  </tbody>\n",
       "</table>\n",
       "</div>"
      ],
      "text/plain": [
       "  ccd_district_type     f0_\n",
       "0                    296464\n",
       "1                    117786\n",
       "2               1.0   31726\n",
       "3               1.0   27468\n",
       "4               7.0    3914\n",
       "5               2.0     280\n",
       "6               7.0     224\n",
       "7               5.0     112"
      ]
     },
     "execution_count": 149,
     "metadata": {},
     "output_type": "execute_result"
    }
   ],
   "source": [
    "%%bigquery\n",
    "SELECT ccd_district_type, count(*)\n",
    "FROM school_enrollments.ca\n",
    "WHERE year = 2020\n",
    "group by ccd_district_type\n",
    "UNION DISTINCT\n",
    "SELECT ccd_district_type, count(*)\n",
    "FROM school_enrollments.tx\n",
    "WHERE year = 2020\n",
    "group by ccd_district_type\n",
    "order by 2 desc"
   ]
  },
  {
   "cell_type": "code",
   "execution_count": 97,
   "metadata": {},
   "outputs": [
    {
     "name": "stderr",
     "output_type": "stream",
     "text": [
      "Query complete after 0.00s: 100%|██████████| 4/4 [00:00<00:00, 2724.02query/s]                        \n",
      "Downloading: 100%|██████████| 369/369 [00:01<00:00, 287.98rows/s]\n"
     ]
    },
    {
     "data": {
      "text/html": [
       "<div>\n",
       "<style scoped>\n",
       "    .dataframe tbody tr th:only-of-type {\n",
       "        vertical-align: middle;\n",
       "    }\n",
       "\n",
       "    .dataframe tbody tr th {\n",
       "        vertical-align: top;\n",
       "    }\n",
       "\n",
       "    .dataframe thead th {\n",
       "        text-align: right;\n",
       "    }\n",
       "</style>\n",
       "<table border=\"1\" class=\"dataframe\">\n",
       "  <thead>\n",
       "    <tr style=\"text-align: right;\">\n",
       "      <th></th>\n",
       "      <th>county</th>\n",
       "      <th>f0_</th>\n",
       "    </tr>\n",
       "  </thead>\n",
       "  <tbody>\n",
       "    <tr>\n",
       "      <th>0</th>\n",
       "      <td>LOS ANGELES</td>\n",
       "      <td>130872</td>\n",
       "    </tr>\n",
       "    <tr>\n",
       "      <th>1</th>\n",
       "      <td>SAN DIEGO</td>\n",
       "      <td>45920</td>\n",
       "    </tr>\n",
       "    <tr>\n",
       "      <th>2</th>\n",
       "      <td>ORANGE</td>\n",
       "      <td>37184</td>\n",
       "    </tr>\n",
       "    <tr>\n",
       "      <th>3</th>\n",
       "      <td>SAN BERNARDINO</td>\n",
       "      <td>33684</td>\n",
       "    </tr>\n",
       "    <tr>\n",
       "      <th>4</th>\n",
       "      <td>HARRIS COUNTY</td>\n",
       "      <td>30592</td>\n",
       "    </tr>\n",
       "    <tr>\n",
       "      <th>...</th>\n",
       "      <td>...</td>\n",
       "      <td>...</td>\n",
       "    </tr>\n",
       "    <tr>\n",
       "      <th>364</th>\n",
       "      <td>Plumas</td>\n",
       "      <td>56</td>\n",
       "    </tr>\n",
       "    <tr>\n",
       "      <th>365</th>\n",
       "      <td>Del Norte</td>\n",
       "      <td>56</td>\n",
       "    </tr>\n",
       "    <tr>\n",
       "      <th>366</th>\n",
       "      <td>Mariposa</td>\n",
       "      <td>56</td>\n",
       "    </tr>\n",
       "    <tr>\n",
       "      <th>367</th>\n",
       "      <td>Alpine</td>\n",
       "      <td>28</td>\n",
       "    </tr>\n",
       "    <tr>\n",
       "      <th>368</th>\n",
       "      <td>Sierra</td>\n",
       "      <td>28</td>\n",
       "    </tr>\n",
       "  </tbody>\n",
       "</table>\n",
       "<p>369 rows × 2 columns</p>\n",
       "</div>"
      ],
      "text/plain": [
       "             county     f0_\n",
       "0       LOS ANGELES  130872\n",
       "1         SAN DIEGO   45920\n",
       "2            ORANGE   37184\n",
       "3    SAN BERNARDINO   33684\n",
       "4     HARRIS COUNTY   30592\n",
       "..              ...     ...\n",
       "364          Plumas      56\n",
       "365       Del Norte      56\n",
       "366        Mariposa      56\n",
       "367          Alpine      28\n",
       "368          Sierra      28\n",
       "\n",
       "[369 rows x 2 columns]"
      ]
     },
     "execution_count": 97,
     "metadata": {},
     "output_type": "execute_result"
    }
   ],
   "source": [
    "%%bigquery\n",
    "SELECT county, count(*)\n",
    "FROM school_enrollments.ca\n",
    "group by county\n",
    "UNION ALL\n",
    "SELECT county, count(*)\n",
    "FROM school_enrollments.tx\n",
    "group by county\n",
    "order by 2 desc"
   ]
  },
  {
   "cell_type": "code",
   "execution_count": 78,
   "metadata": {},
   "outputs": [
    {
     "name": "stderr",
     "output_type": "stream",
     "text": [
      "Query complete after 0.00s: 100%|██████████| 3/3 [00:00<00:00, 2474.03query/s]                        \n",
      "Downloading: 100%|██████████| 3942/3942 [00:01<00:00, 3128.60rows/s]\n"
     ]
    },
    {
     "data": {
      "text/html": [
       "<div>\n",
       "<style scoped>\n",
       "    .dataframe tbody tr th:only-of-type {\n",
       "        vertical-align: middle;\n",
       "    }\n",
       "\n",
       "    .dataframe tbody tr th {\n",
       "        vertical-align: top;\n",
       "    }\n",
       "\n",
       "    .dataframe thead th {\n",
       "        text-align: right;\n",
       "    }\n",
       "</style>\n",
       "<table border=\"1\" class=\"dataframe\">\n",
       "  <thead>\n",
       "    <tr style=\"text-align: right;\">\n",
       "      <th></th>\n",
       "      <th>f0_</th>\n",
       "      <th>total</th>\n",
       "    </tr>\n",
       "  </thead>\n",
       "  <tbody>\n",
       "    <tr>\n",
       "      <th>0</th>\n",
       "      <td>Los Angeles</td>\n",
       "      <td>604074.0</td>\n",
       "    </tr>\n",
       "    <tr>\n",
       "      <th>1</th>\n",
       "      <td>LOS ANGELES</td>\n",
       "      <td>572859.0</td>\n",
       "    </tr>\n",
       "    <tr>\n",
       "      <th>2</th>\n",
       "      <td>San Diego</td>\n",
       "      <td>123533.0</td>\n",
       "    </tr>\n",
       "    <tr>\n",
       "      <th>3</th>\n",
       "      <td>SAN DIEGO</td>\n",
       "      <td>118210.0</td>\n",
       "    </tr>\n",
       "    <tr>\n",
       "      <th>4</th>\n",
       "      <td>Fresno</td>\n",
       "      <td>73190.0</td>\n",
       "    </tr>\n",
       "    <tr>\n",
       "      <th>...</th>\n",
       "      <td>...</td>\n",
       "      <td>...</td>\n",
       "    </tr>\n",
       "    <tr>\n",
       "      <th>3937</th>\n",
       "      <td>YOLO</td>\n",
       "      <td>105.0</td>\n",
       "    </tr>\n",
       "    <tr>\n",
       "      <th>3938</th>\n",
       "      <td>YOLO</td>\n",
       "      <td>104.0</td>\n",
       "    </tr>\n",
       "    <tr>\n",
       "      <th>3939</th>\n",
       "      <td>YUBA</td>\n",
       "      <td>103.0</td>\n",
       "    </tr>\n",
       "    <tr>\n",
       "      <th>3940</th>\n",
       "      <td>YUBA</td>\n",
       "      <td>102.0</td>\n",
       "    </tr>\n",
       "    <tr>\n",
       "      <th>3941</th>\n",
       "      <td>YOLO</td>\n",
       "      <td>101.0</td>\n",
       "    </tr>\n",
       "  </tbody>\n",
       "</table>\n",
       "<p>3942 rows × 2 columns</p>\n",
       "</div>"
      ],
      "text/plain": [
       "              f0_     total\n",
       "0     Los Angeles  604074.0\n",
       "1     LOS ANGELES  572859.0\n",
       "2       San Diego  123533.0\n",
       "3       SAN DIEGO  118210.0\n",
       "4          Fresno   73190.0\n",
       "...           ...       ...\n",
       "3937         YOLO     105.0\n",
       "3938         YOLO     104.0\n",
       "3939         YUBA     103.0\n",
       "3940         YUBA     102.0\n",
       "3941         YOLO     101.0\n",
       "\n",
       "[3942 rows x 2 columns]"
      ]
     },
     "execution_count": 78,
     "metadata": {},
     "output_type": "execute_result"
    }
   ],
   "source": [
    "%%bigquery\n",
    "SELECT max(county), total\n",
    "FROM school_enrollments.ca\n",
    "group by total\n",
    "having total > 100\n",
    "order by 2 desc"
   ]
  },
  {
   "cell_type": "code",
   "execution_count": 86,
   "metadata": {},
   "outputs": [
    {
     "name": "stderr",
     "output_type": "stream",
     "text": [
      "Query complete after 0.00s: 100%|██████████| 3/3 [00:00<00:00, 2084.30query/s]                        \n",
      "Downloading: 100%|██████████| 601/601 [00:01<00:00, 507.69rows/s]\n"
     ]
    },
    {
     "data": {
      "text/html": [
       "<div>\n",
       "<style scoped>\n",
       "    .dataframe tbody tr th:only-of-type {\n",
       "        vertical-align: middle;\n",
       "    }\n",
       "\n",
       "    .dataframe tbody tr th {\n",
       "        vertical-align: top;\n",
       "    }\n",
       "\n",
       "    .dataframe thead th {\n",
       "        text-align: right;\n",
       "    }\n",
       "</style>\n",
       "<table border=\"1\" class=\"dataframe\">\n",
       "  <thead>\n",
       "    <tr style=\"text-align: right;\">\n",
       "      <th></th>\n",
       "      <th>free_and_reduced</th>\n",
       "      <th>ell</th>\n",
       "    </tr>\n",
       "  </thead>\n",
       "  <tbody>\n",
       "    <tr>\n",
       "      <th>0</th>\n",
       "      <td>99.0</td>\n",
       "      <td>21.0</td>\n",
       "    </tr>\n",
       "    <tr>\n",
       "      <th>1</th>\n",
       "      <td>99.0</td>\n",
       "      <td>22.0</td>\n",
       "    </tr>\n",
       "    <tr>\n",
       "      <th>2</th>\n",
       "      <td>97.0</td>\n",
       "      <td>23.0</td>\n",
       "    </tr>\n",
       "    <tr>\n",
       "      <th>3</th>\n",
       "      <td>99.0</td>\n",
       "      <td>24.0</td>\n",
       "    </tr>\n",
       "    <tr>\n",
       "      <th>4</th>\n",
       "      <td>97.0</td>\n",
       "      <td>25.0</td>\n",
       "    </tr>\n",
       "    <tr>\n",
       "      <th>...</th>\n",
       "      <td>...</td>\n",
       "      <td>...</td>\n",
       "    </tr>\n",
       "    <tr>\n",
       "      <th>596</th>\n",
       "      <td>2567.0</td>\n",
       "      <td>1379.0</td>\n",
       "    </tr>\n",
       "    <tr>\n",
       "      <th>597</th>\n",
       "      <td>2529.0</td>\n",
       "      <td>1431.0</td>\n",
       "    </tr>\n",
       "    <tr>\n",
       "      <th>598</th>\n",
       "      <td>2123.0</td>\n",
       "      <td>2387.0</td>\n",
       "    </tr>\n",
       "    <tr>\n",
       "      <th>599</th>\n",
       "      <td></td>\n",
       "      <td>2835.0</td>\n",
       "    </tr>\n",
       "    <tr>\n",
       "      <th>600</th>\n",
       "      <td>3086.0</td>\n",
       "      <td>3013.0</td>\n",
       "    </tr>\n",
       "  </tbody>\n",
       "</table>\n",
       "<p>601 rows × 2 columns</p>\n",
       "</div>"
      ],
      "text/plain": [
       "    free_and_reduced     ell\n",
       "0               99.0    21.0\n",
       "1               99.0    22.0\n",
       "2               97.0    23.0\n",
       "3               99.0    24.0\n",
       "4               97.0    25.0\n",
       "..               ...     ...\n",
       "596           2567.0  1379.0\n",
       "597           2529.0  1431.0\n",
       "598           2123.0  2387.0\n",
       "599                   2835.0\n",
       "600           3086.0  3013.0\n",
       "\n",
       "[601 rows x 2 columns]"
      ]
     },
     "execution_count": 86,
     "metadata": {},
     "output_type": "execute_result"
    }
   ],
   "source": [
    "%%bigquery\n",
    "SELECT max(free_and_reduced) free_and_reduced, ell\n",
    "FROM school_enrollments.ca\n",
    "group by ell\n",
    "having ell > 20.0\n",
    "%%order by 2 asc"
   ]
  },
  {
   "cell_type": "code",
   "execution_count": 90,
   "metadata": {},
   "outputs": [
    {
     "name": "stderr",
     "output_type": "stream",
     "text": [
      "Query complete after 0.00s: 100%|██████████| 3/3 [00:00<00:00, 2231.41query/s]                        \n",
      "Downloading: 100%|██████████| 141/141 [00:01<00:00, 126.27rows/s]\n"
     ]
    },
    {
     "data": {
      "text/html": [
       "<div>\n",
       "<style scoped>\n",
       "    .dataframe tbody tr th:only-of-type {\n",
       "        vertical-align: middle;\n",
       "    }\n",
       "\n",
       "    .dataframe tbody tr th {\n",
       "        vertical-align: top;\n",
       "    }\n",
       "\n",
       "    .dataframe thead th {\n",
       "        text-align: right;\n",
       "    }\n",
       "</style>\n",
       "<table border=\"1\" class=\"dataframe\">\n",
       "  <thead>\n",
       "    <tr style=\"text-align: right;\">\n",
       "      <th></th>\n",
       "      <th>school</th>\n",
       "      <th>year</th>\n",
       "    </tr>\n",
       "  </thead>\n",
       "  <tbody>\n",
       "    <tr>\n",
       "      <th>0</th>\n",
       "      <td>AUSTIN ACHIEVE H S</td>\n",
       "      <td>2020</td>\n",
       "    </tr>\n",
       "    <tr>\n",
       "      <th>1</th>\n",
       "      <td>AKINS H S</td>\n",
       "      <td>2020</td>\n",
       "    </tr>\n",
       "    <tr>\n",
       "      <th>2</th>\n",
       "      <td>ALTERNATIVE LEARNING CENTER</td>\n",
       "      <td>2020</td>\n",
       "    </tr>\n",
       "    <tr>\n",
       "      <th>3</th>\n",
       "      <td>ANDERSON H S</td>\n",
       "      <td>2020</td>\n",
       "    </tr>\n",
       "    <tr>\n",
       "      <th>4</th>\n",
       "      <td>AUSTIN H S</td>\n",
       "      <td>2020</td>\n",
       "    </tr>\n",
       "    <tr>\n",
       "      <th>...</th>\n",
       "      <td>...</td>\n",
       "      <td>...</td>\n",
       "    </tr>\n",
       "    <tr>\n",
       "      <th>136</th>\n",
       "      <td>HARMONY SCIENCE ACADEMY - AUSTIN</td>\n",
       "      <td>2020</td>\n",
       "    </tr>\n",
       "    <tr>\n",
       "      <th>137</th>\n",
       "      <td>HARMONY SCIENCE ACADEMY - CEDAR PA</td>\n",
       "      <td>2020</td>\n",
       "    </tr>\n",
       "    <tr>\n",
       "      <th>138</th>\n",
       "      <td>STEPHEN F AUSTIN STATE UNIVERSITY</td>\n",
       "      <td>2020</td>\n",
       "    </tr>\n",
       "    <tr>\n",
       "      <th>139</th>\n",
       "      <td>AUSTIN ISD CHILD DEVELOPMENT CENTE</td>\n",
       "      <td>2020</td>\n",
       "    </tr>\n",
       "    <tr>\n",
       "      <th>140</th>\n",
       "      <td>MAINSPRING SCHOOLS</td>\n",
       "      <td>2020</td>\n",
       "    </tr>\n",
       "  </tbody>\n",
       "</table>\n",
       "<p>141 rows × 2 columns</p>\n",
       "</div>"
      ],
      "text/plain": [
       "                                 school  year\n",
       "0                    AUSTIN ACHIEVE H S  2020\n",
       "1                             AKINS H S  2020\n",
       "2           ALTERNATIVE LEARNING CENTER  2020\n",
       "3                          ANDERSON H S  2020\n",
       "4                            AUSTIN H S  2020\n",
       "..                                  ...   ...\n",
       "136    HARMONY SCIENCE ACADEMY - AUSTIN  2020\n",
       "137  HARMONY SCIENCE ACADEMY - CEDAR PA  2020\n",
       "138   STEPHEN F AUSTIN STATE UNIVERSITY  2020\n",
       "139  AUSTIN ISD CHILD DEVELOPMENT CENTE  2020\n",
       "140                  MAINSPRING SCHOOLS  2020\n",
       "\n",
       "[141 rows x 2 columns]"
      ]
     },
     "execution_count": 90,
     "metadata": {},
     "output_type": "execute_result"
    }
   ],
   "source": [
    "%%bigquery\n",
    "select school school, max(year) year\n",
    "from views.austin_enrollments_by_school_grade_year\n",
    "where year = 2020\n",
    "group by school"
   ]
  },
  {
   "cell_type": "code",
   "execution_count": 207,
   "metadata": {},
   "outputs": [
    {
     "name": "stdout",
     "output_type": "stream",
     "text": [
      "Executing query with job ID: 7a005542-bf5c-46c3-ae84-6183df72d522\n",
      "Query executing: 0.32s"
     ]
    },
    {
     "name": "stderr",
     "output_type": "stream",
     "text": [
      "\n",
      "ERROR:\n",
      " 400 No matching signature for operator > for argument types: STRING, FLOAT64. Supported signature: ANY > ANY at [4:8]\n",
      "\n",
      "(job ID: 7a005542-bf5c-46c3-ae84-6183df72d522)\n",
      "\n",
      "      -----Query Job SQL Follows-----      \n",
      "\n",
      "    |    .    |    .    |    .    |\n",
      "   1:SELECT max(admin_level), county, total\n",
      "   2:FROM school_enrollments.tx\n",
      "   3:group by total, county\n",
      "   4:having total > 100.0\n",
      "   5:order by total DESC, county\n",
      "    |    .    |    .    |    .    |\n"
     ]
    }
   ],
   "source": [
    "%%bigquery\n",
    "SELECT max(admin_level), county, total\n",
    "FROM school_enrollments.tx\n",
    "group by total, county\n",
    "having total > 100.0\n",
    "order by total DESC, county"
   ]
  },
  {
   "cell_type": "code",
   "execution_count": 203,
   "metadata": {},
   "outputs": [
    {
     "name": "stderr",
     "output_type": "stream",
     "text": [
      "Query complete after 0.00s: 100%|██████████| 3/3 [00:00<00:00, 1926.94query/s]                        \n",
      "Downloading: 100%|██████████| 15/15 [00:01<00:00, 11.97rows/s]\n"
     ]
    },
    {
     "data": {
      "text/html": [
       "<div>\n",
       "<style scoped>\n",
       "    .dataframe tbody tr th:only-of-type {\n",
       "        vertical-align: middle;\n",
       "    }\n",
       "\n",
       "    .dataframe tbody tr th {\n",
       "        vertical-align: top;\n",
       "    }\n",
       "\n",
       "    .dataframe thead th {\n",
       "        text-align: right;\n",
       "    }\n",
       "</style>\n",
       "<table border=\"1\" class=\"dataframe\">\n",
       "  <thead>\n",
       "    <tr style=\"text-align: right;\">\n",
       "      <th></th>\n",
       "      <th>grade</th>\n",
       "      <th>Enrollments</th>\n",
       "    </tr>\n",
       "  </thead>\n",
       "  <tbody>\n",
       "    <tr>\n",
       "      <th>0</th>\n",
       "      <td>grade_9</td>\n",
       "      <td>28</td>\n",
       "    </tr>\n",
       "    <tr>\n",
       "      <th>1</th>\n",
       "      <td>grade_10</td>\n",
       "      <td>28</td>\n",
       "    </tr>\n",
       "    <tr>\n",
       "      <th>2</th>\n",
       "      <td>grade_11</td>\n",
       "      <td>26</td>\n",
       "    </tr>\n",
       "    <tr>\n",
       "      <th>3</th>\n",
       "      <td>grade_12</td>\n",
       "      <td>24</td>\n",
       "    </tr>\n",
       "    <tr>\n",
       "      <th>4</th>\n",
       "      <td>grade_5</td>\n",
       "      <td>88</td>\n",
       "    </tr>\n",
       "    <tr>\n",
       "      <th>5</th>\n",
       "      <td>grade_6</td>\n",
       "      <td>31</td>\n",
       "    </tr>\n",
       "    <tr>\n",
       "      <th>6</th>\n",
       "      <td>grade_7</td>\n",
       "      <td>28</td>\n",
       "    </tr>\n",
       "    <tr>\n",
       "      <th>7</th>\n",
       "      <td>grade_8</td>\n",
       "      <td>30</td>\n",
       "    </tr>\n",
       "    <tr>\n",
       "      <th>8</th>\n",
       "      <td>early_education</td>\n",
       "      <td>48</td>\n",
       "    </tr>\n",
       "    <tr>\n",
       "      <th>9</th>\n",
       "      <td>kindergarten</td>\n",
       "      <td>88</td>\n",
       "    </tr>\n",
       "    <tr>\n",
       "      <th>10</th>\n",
       "      <td>grade_1</td>\n",
       "      <td>87</td>\n",
       "    </tr>\n",
       "    <tr>\n",
       "      <th>11</th>\n",
       "      <td>grade_2</td>\n",
       "      <td>87</td>\n",
       "    </tr>\n",
       "    <tr>\n",
       "      <th>12</th>\n",
       "      <td>grade_3</td>\n",
       "      <td>87</td>\n",
       "    </tr>\n",
       "    <tr>\n",
       "      <th>13</th>\n",
       "      <td>grade_4</td>\n",
       "      <td>87</td>\n",
       "    </tr>\n",
       "    <tr>\n",
       "      <th>14</th>\n",
       "      <td>pre_kindergarten</td>\n",
       "      <td>79</td>\n",
       "    </tr>\n",
       "  </tbody>\n",
       "</table>\n",
       "</div>"
      ],
      "text/plain": [
       "               grade  Enrollments\n",
       "0            grade_9           28\n",
       "1           grade_10           28\n",
       "2           grade_11           26\n",
       "3           grade_12           24\n",
       "4            grade_5           88\n",
       "5            grade_6           31\n",
       "6            grade_7           28\n",
       "7            grade_8           30\n",
       "8    early_education           48\n",
       "9       kindergarten           88\n",
       "10           grade_1           87\n",
       "11           grade_2           87\n",
       "12           grade_3           87\n",
       "13           grade_4           87\n",
       "14  pre_kindergarten           79"
      ]
     },
     "execution_count": 203,
     "metadata": {},
     "output_type": "execute_result"
    }
   ],
   "source": [
    "%%bigquery\n",
    "select grade grade, count(*) Enrollments\n",
    "from views.austin_enrollments_by_school_grade_year\n",
    "where year = 2021\n",
    "group by grade"
   ]
  },
  {
   "cell_type": "code",
   "execution_count": 204,
   "metadata": {},
   "outputs": [
    {
     "name": "stderr",
     "output_type": "stream",
     "text": [
      "Query complete after 0.00s: 100%|██████████| 3/3 [00:00<00:00, 1542.40query/s]                        \n",
      "Downloading: 100%|██████████| 1739/1739 [00:01<00:00, 1355.57rows/s]\n"
     ]
    },
    {
     "data": {
      "text/html": [
       "<div>\n",
       "<style scoped>\n",
       "    .dataframe tbody tr th:only-of-type {\n",
       "        vertical-align: middle;\n",
       "    }\n",
       "\n",
       "    .dataframe tbody tr th {\n",
       "        vertical-align: top;\n",
       "    }\n",
       "\n",
       "    .dataframe thead th {\n",
       "        text-align: right;\n",
       "    }\n",
       "</style>\n",
       "<table border=\"1\" class=\"dataframe\">\n",
       "  <thead>\n",
       "    <tr style=\"text-align: right;\">\n",
       "      <th></th>\n",
       "      <th>school</th>\n",
       "      <th>grade</th>\n",
       "      <th>year</th>\n",
       "      <th>total</th>\n",
       "    </tr>\n",
       "  </thead>\n",
       "  <tbody>\n",
       "    <tr>\n",
       "      <th>0</th>\n",
       "      <td>AKINS H S</td>\n",
       "      <td>grade_10</td>\n",
       "      <td>2020</td>\n",
       "      <td>1440</td>\n",
       "    </tr>\n",
       "    <tr>\n",
       "      <th>1</th>\n",
       "      <td>AKINS H S</td>\n",
       "      <td>grade_10</td>\n",
       "      <td>2021</td>\n",
       "      <td>1494</td>\n",
       "    </tr>\n",
       "    <tr>\n",
       "      <th>2</th>\n",
       "      <td>AKINS H S</td>\n",
       "      <td>grade_11</td>\n",
       "      <td>2020</td>\n",
       "      <td>1328</td>\n",
       "    </tr>\n",
       "    <tr>\n",
       "      <th>3</th>\n",
       "      <td>AKINS H S</td>\n",
       "      <td>grade_11</td>\n",
       "      <td>2021</td>\n",
       "      <td>1326</td>\n",
       "    </tr>\n",
       "    <tr>\n",
       "      <th>4</th>\n",
       "      <td>AKINS H S</td>\n",
       "      <td>grade_12</td>\n",
       "      <td>2020</td>\n",
       "      <td>1218</td>\n",
       "    </tr>\n",
       "    <tr>\n",
       "      <th>...</th>\n",
       "      <td>...</td>\n",
       "      <td>...</td>\n",
       "      <td>...</td>\n",
       "      <td>...</td>\n",
       "    </tr>\n",
       "    <tr>\n",
       "      <th>1734</th>\n",
       "      <td>ZILKER EL</td>\n",
       "      <td>grade_5</td>\n",
       "      <td>2021</td>\n",
       "      <td>138</td>\n",
       "    </tr>\n",
       "    <tr>\n",
       "      <th>1735</th>\n",
       "      <td>ZILKER EL</td>\n",
       "      <td>kindergarten</td>\n",
       "      <td>2020</td>\n",
       "      <td>154</td>\n",
       "    </tr>\n",
       "    <tr>\n",
       "      <th>1736</th>\n",
       "      <td>ZILKER EL</td>\n",
       "      <td>kindergarten</td>\n",
       "      <td>2021</td>\n",
       "      <td>126</td>\n",
       "    </tr>\n",
       "    <tr>\n",
       "      <th>1737</th>\n",
       "      <td>ZILKER EL</td>\n",
       "      <td>pre_kindergarten</td>\n",
       "      <td>2020</td>\n",
       "      <td>60</td>\n",
       "    </tr>\n",
       "    <tr>\n",
       "      <th>1738</th>\n",
       "      <td>ZILKER EL</td>\n",
       "      <td>pre_kindergarten</td>\n",
       "      <td>2021</td>\n",
       "      <td>26</td>\n",
       "    </tr>\n",
       "  </tbody>\n",
       "</table>\n",
       "<p>1739 rows × 4 columns</p>\n",
       "</div>"
      ],
      "text/plain": [
       "         school             grade  year  total\n",
       "0     AKINS H S          grade_10  2020   1440\n",
       "1     AKINS H S          grade_10  2021   1494\n",
       "2     AKINS H S          grade_11  2020   1328\n",
       "3     AKINS H S          grade_11  2021   1326\n",
       "4     AKINS H S          grade_12  2020   1218\n",
       "...         ...               ...   ...    ...\n",
       "1734  ZILKER EL           grade_5  2021    138\n",
       "1735  ZILKER EL      kindergarten  2020    154\n",
       "1736  ZILKER EL      kindergarten  2021    126\n",
       "1737  ZILKER EL  pre_kindergarten  2020     60\n",
       "1738  ZILKER EL  pre_kindergarten  2021     26\n",
       "\n",
       "[1739 rows x 4 columns]"
      ]
     },
     "execution_count": 204,
     "metadata": {},
     "output_type": "execute_result"
    }
   ],
   "source": [
    "%%bigquery\n",
    "select * from views.austin_enrollments_by_school_grade_year"
   ]
  },
  {
   "cell_type": "code",
   "execution_count": 217,
   "metadata": {},
   "outputs": [
    {
     "name": "stdout",
     "output_type": "stream",
     "text": [
      "Executing query with job ID: 653e3cfd-ad13-45d0-ad23-3a92339848f7\n",
      "Query executing: 0.27s"
     ]
    },
    {
     "name": "stderr",
     "output_type": "stream",
     "text": [
      "\n",
      "ERROR:\n",
      " 400 No matching signature for operator > for argument types: STRING, INT64. Supported signature: ANY > ANY at [3:25]\n",
      "\n",
      "(job ID: 653e3cfd-ad13-45d0-ad23-3a92339848f7)\n",
      "\n",
      "                         -----Query Job SQL Follows-----                         \n",
      "\n",
      "    |    .    |    .    |    .    |    .    |    .    |    .    |    .    |\n",
      "   1:create view views.california_low_income_demographics_2 as\n",
      "   2:select county, low_income, homeless, district from school_enrollments.ca\n",
      "   3:where county != '' and  low_income > 0  and  homeless > 0 and district != ''\n",
      "   4:group by county, low_income, homeless, district\n",
      "   5:order by county, low_income, homeless, district\n",
      "    |    .    |    .    |    .    |    .    |    .    |    .    |    .    |\n"
     ]
    }
   ],
   "source": [
    "%%bigquery\n",
    "create view views.california_low_income_demographics_2 as\n",
    "select county, low_income, homeless, district from school_enrollments.ca\n",
    "where county != '' and  low_income != 0  and  homeless > 0 and district != ''\n",
    "group by county, low_income, homeless, district\n",
    "order by county, low_income, homeless, district"
   ]
  },
  {
   "cell_type": "code",
   "execution_count": 205,
   "metadata": {},
   "outputs": [
    {
     "name": "stderr",
     "output_type": "stream",
     "text": [
      "Query complete after 0.00s: 100%|██████████| 2/2 [00:00<00:00, 1254.09query/s]                        \n",
      "Downloading: 100%|██████████| 66976/66976 [00:01<00:00, 52505.81rows/s]\n"
     ]
    },
    {
     "data": {
      "text/html": [
       "<div>\n",
       "<style scoped>\n",
       "    .dataframe tbody tr th:only-of-type {\n",
       "        vertical-align: middle;\n",
       "    }\n",
       "\n",
       "    .dataframe tbody tr th {\n",
       "        vertical-align: top;\n",
       "    }\n",
       "\n",
       "    .dataframe thead th {\n",
       "        text-align: right;\n",
       "    }\n",
       "</style>\n",
       "<table border=\"1\" class=\"dataframe\">\n",
       "  <thead>\n",
       "    <tr style=\"text-align: right;\">\n",
       "      <th></th>\n",
       "      <th>state</th>\n",
       "      <th>county</th>\n",
       "      <th>county_state_id</th>\n",
       "      <th>admin_level</th>\n",
       "      <th>district_nces_id</th>\n",
       "      <th>district_state_id</th>\n",
       "      <th>district_state_type</th>\n",
       "      <th>district</th>\n",
       "      <th>ccd_district_type</th>\n",
       "      <th>ccd_charter</th>\n",
       "      <th>...</th>\n",
       "      <th>ell</th>\n",
       "      <th>ell_percent</th>\n",
       "      <th>homeless</th>\n",
       "      <th>homeless_percent</th>\n",
       "      <th>low_income</th>\n",
       "      <th>free_and_reduced</th>\n",
       "      <th>free_and_reduced_percent</th>\n",
       "      <th>disability</th>\n",
       "      <th>section_504</th>\n",
       "      <th>total</th>\n",
       "    </tr>\n",
       "  </thead>\n",
       "  <tbody>\n",
       "    <tr>\n",
       "      <th>0</th>\n",
       "      <td>UT</td>\n",
       "      <td></td>\n",
       "      <td></td>\n",
       "      <td>district</td>\n",
       "      <td>4900030.0</td>\n",
       "      <td>01</td>\n",
       "      <td>District</td>\n",
       "      <td>Alpine District</td>\n",
       "      <td>1.0</td>\n",
       "      <td>NOTCHR</td>\n",
       "      <td>...</td>\n",
       "      <td>3372.0</td>\n",
       "      <td></td>\n",
       "      <td>72.0</td>\n",
       "      <td></td>\n",
       "      <td>18660.0</td>\n",
       "      <td></td>\n",
       "      <td></td>\n",
       "      <td>8128.0</td>\n",
       "      <td></td>\n",
       "      <td>81532</td>\n",
       "    </tr>\n",
       "    <tr>\n",
       "      <th>1</th>\n",
       "      <td>UT</td>\n",
       "      <td></td>\n",
       "      <td></td>\n",
       "      <td>district</td>\n",
       "      <td>4900060.0</td>\n",
       "      <td>02</td>\n",
       "      <td>District</td>\n",
       "      <td>Beaver District</td>\n",
       "      <td>1.0</td>\n",
       "      <td>NOTCHR</td>\n",
       "      <td>...</td>\n",
       "      <td>61.0</td>\n",
       "      <td></td>\n",
       "      <td>0.0</td>\n",
       "      <td></td>\n",
       "      <td>628.0</td>\n",
       "      <td></td>\n",
       "      <td></td>\n",
       "      <td>217.0</td>\n",
       "      <td></td>\n",
       "      <td>1524</td>\n",
       "    </tr>\n",
       "    <tr>\n",
       "      <th>2</th>\n",
       "      <td>UT</td>\n",
       "      <td></td>\n",
       "      <td></td>\n",
       "      <td>district</td>\n",
       "      <td>4900090.0</td>\n",
       "      <td>03</td>\n",
       "      <td>District</td>\n",
       "      <td>Box Elder District</td>\n",
       "      <td>1.0</td>\n",
       "      <td>NOTCHR</td>\n",
       "      <td>...</td>\n",
       "      <td>364.0</td>\n",
       "      <td></td>\n",
       "      <td>80.0</td>\n",
       "      <td></td>\n",
       "      <td>4316.0</td>\n",
       "      <td></td>\n",
       "      <td></td>\n",
       "      <td>1328.0</td>\n",
       "      <td></td>\n",
       "      <td>11914</td>\n",
       "    </tr>\n",
       "    <tr>\n",
       "      <th>3</th>\n",
       "      <td>UT</td>\n",
       "      <td></td>\n",
       "      <td></td>\n",
       "      <td>district</td>\n",
       "      <td>4900120.0</td>\n",
       "      <td>04</td>\n",
       "      <td>District</td>\n",
       "      <td>Cache District</td>\n",
       "      <td>1.0</td>\n",
       "      <td>NOTCHR</td>\n",
       "      <td>...</td>\n",
       "      <td>668.0</td>\n",
       "      <td></td>\n",
       "      <td>78.0</td>\n",
       "      <td></td>\n",
       "      <td>5980.0</td>\n",
       "      <td></td>\n",
       "      <td></td>\n",
       "      <td>2293.0</td>\n",
       "      <td></td>\n",
       "      <td>18802</td>\n",
       "    </tr>\n",
       "    <tr>\n",
       "      <th>4</th>\n",
       "      <td>UT</td>\n",
       "      <td></td>\n",
       "      <td></td>\n",
       "      <td>district</td>\n",
       "      <td>4900142.0</td>\n",
       "      <td>42</td>\n",
       "      <td>District</td>\n",
       "      <td>Canyons District</td>\n",
       "      <td>1.0</td>\n",
       "      <td>NOTCHR</td>\n",
       "      <td>...</td>\n",
       "      <td>2700.0</td>\n",
       "      <td></td>\n",
       "      <td>1277.0</td>\n",
       "      <td></td>\n",
       "      <td>9668.0</td>\n",
       "      <td></td>\n",
       "      <td></td>\n",
       "      <td>3778.0</td>\n",
       "      <td></td>\n",
       "      <td>34178</td>\n",
       "    </tr>\n",
       "    <tr>\n",
       "      <th>...</th>\n",
       "      <td>...</td>\n",
       "      <td>...</td>\n",
       "      <td>...</td>\n",
       "      <td>...</td>\n",
       "      <td>...</td>\n",
       "      <td>...</td>\n",
       "      <td>...</td>\n",
       "      <td>...</td>\n",
       "      <td>...</td>\n",
       "      <td>...</td>\n",
       "      <td>...</td>\n",
       "      <td>...</td>\n",
       "      <td>...</td>\n",
       "      <td>...</td>\n",
       "      <td>...</td>\n",
       "      <td>...</td>\n",
       "      <td>...</td>\n",
       "      <td>...</td>\n",
       "      <td>...</td>\n",
       "      <td>...</td>\n",
       "      <td>...</td>\n",
       "    </tr>\n",
       "    <tr>\n",
       "      <th>66971</th>\n",
       "      <td>UT</td>\n",
       "      <td></td>\n",
       "      <td></td>\n",
       "      <td>school</td>\n",
       "      <td>4900450.0</td>\n",
       "      <td>15</td>\n",
       "      <td>District</td>\n",
       "      <td>Juab District</td>\n",
       "      <td></td>\n",
       "      <td></td>\n",
       "      <td>...</td>\n",
       "      <td>0.0</td>\n",
       "      <td></td>\n",
       "      <td>0.0</td>\n",
       "      <td></td>\n",
       "      <td>142.0</td>\n",
       "      <td></td>\n",
       "      <td></td>\n",
       "      <td>47.0</td>\n",
       "      <td></td>\n",
       "      <td>319</td>\n",
       "    </tr>\n",
       "    <tr>\n",
       "      <th>66972</th>\n",
       "      <td>UT</td>\n",
       "      <td></td>\n",
       "      <td></td>\n",
       "      <td>school</td>\n",
       "      <td>4900450.0</td>\n",
       "      <td>15</td>\n",
       "      <td>District</td>\n",
       "      <td>Juab District</td>\n",
       "      <td></td>\n",
       "      <td></td>\n",
       "      <td>...</td>\n",
       "      <td>0.0</td>\n",
       "      <td></td>\n",
       "      <td>0.0</td>\n",
       "      <td></td>\n",
       "      <td>129.0</td>\n",
       "      <td></td>\n",
       "      <td></td>\n",
       "      <td>35.0</td>\n",
       "      <td></td>\n",
       "      <td>292</td>\n",
       "    </tr>\n",
       "    <tr>\n",
       "      <th>66973</th>\n",
       "      <td>UT</td>\n",
       "      <td></td>\n",
       "      <td></td>\n",
       "      <td>school</td>\n",
       "      <td>4900450.0</td>\n",
       "      <td>15</td>\n",
       "      <td>District</td>\n",
       "      <td>Juab District</td>\n",
       "      <td></td>\n",
       "      <td></td>\n",
       "      <td>...</td>\n",
       "      <td>0.0</td>\n",
       "      <td></td>\n",
       "      <td>1.0</td>\n",
       "      <td></td>\n",
       "      <td>236.0</td>\n",
       "      <td></td>\n",
       "      <td></td>\n",
       "      <td>95.0</td>\n",
       "      <td></td>\n",
       "      <td>671</td>\n",
       "    </tr>\n",
       "    <tr>\n",
       "      <th>66974</th>\n",
       "      <td>UT</td>\n",
       "      <td></td>\n",
       "      <td></td>\n",
       "      <td>school</td>\n",
       "      <td>4900450.0</td>\n",
       "      <td>15</td>\n",
       "      <td>District</td>\n",
       "      <td>Juab District</td>\n",
       "      <td></td>\n",
       "      <td></td>\n",
       "      <td>...</td>\n",
       "      <td>0.0</td>\n",
       "      <td></td>\n",
       "      <td>0.0</td>\n",
       "      <td></td>\n",
       "      <td>209.0</td>\n",
       "      <td></td>\n",
       "      <td></td>\n",
       "      <td>104.0</td>\n",
       "      <td></td>\n",
       "      <td>673</td>\n",
       "    </tr>\n",
       "    <tr>\n",
       "      <th>66975</th>\n",
       "      <td>UT</td>\n",
       "      <td></td>\n",
       "      <td></td>\n",
       "      <td>school</td>\n",
       "      <td>4900203.0</td>\n",
       "      <td>4M</td>\n",
       "      <td>Charter</td>\n",
       "      <td>Mountain Sunrise Academy</td>\n",
       "      <td></td>\n",
       "      <td></td>\n",
       "      <td>...</td>\n",
       "      <td>0.0</td>\n",
       "      <td></td>\n",
       "      <td>0.0</td>\n",
       "      <td></td>\n",
       "      <td>140.0</td>\n",
       "      <td></td>\n",
       "      <td></td>\n",
       "      <td>1.0</td>\n",
       "      <td></td>\n",
       "      <td>382</td>\n",
       "    </tr>\n",
       "  </tbody>\n",
       "</table>\n",
       "<p>66976 rows × 51 columns</p>\n",
       "</div>"
      ],
      "text/plain": [
       "      state county county_state_id admin_level  district_nces_id  \\\n",
       "0        UT                           district         4900030.0   \n",
       "1        UT                           district         4900060.0   \n",
       "2        UT                           district         4900090.0   \n",
       "3        UT                           district         4900120.0   \n",
       "4        UT                           district         4900142.0   \n",
       "...     ...    ...             ...         ...               ...   \n",
       "66971    UT                             school         4900450.0   \n",
       "66972    UT                             school         4900450.0   \n",
       "66973    UT                             school         4900450.0   \n",
       "66974    UT                             school         4900450.0   \n",
       "66975    UT                             school         4900203.0   \n",
       "\n",
       "      district_state_id district_state_type                  district  \\\n",
       "0                    01            District           Alpine District   \n",
       "1                    02            District           Beaver District   \n",
       "2                    03            District        Box Elder District   \n",
       "3                    04            District            Cache District   \n",
       "4                    42            District          Canyons District   \n",
       "...                 ...                 ...                       ...   \n",
       "66971                15            District             Juab District   \n",
       "66972                15            District             Juab District   \n",
       "66973                15            District             Juab District   \n",
       "66974                15            District             Juab District   \n",
       "66975                4M             Charter  Mountain Sunrise Academy   \n",
       "\n",
       "      ccd_district_type ccd_charter  ...     ell ell_percent homeless  \\\n",
       "0                   1.0      NOTCHR  ...  3372.0                 72.0   \n",
       "1                   1.0      NOTCHR  ...    61.0                  0.0   \n",
       "2                   1.0      NOTCHR  ...   364.0                 80.0   \n",
       "3                   1.0      NOTCHR  ...   668.0                 78.0   \n",
       "4                   1.0      NOTCHR  ...  2700.0               1277.0   \n",
       "...                 ...         ...  ...     ...         ...      ...   \n",
       "66971                                ...     0.0                  0.0   \n",
       "66972                                ...     0.0                  0.0   \n",
       "66973                                ...     0.0                  1.0   \n",
       "66974                                ...     0.0                  0.0   \n",
       "66975                                ...     0.0                  0.0   \n",
       "\n",
       "       homeless_percent  low_income free_and_reduced free_and_reduced_percent  \\\n",
       "0                           18660.0                                             \n",
       "1                             628.0                                             \n",
       "2                            4316.0                                             \n",
       "3                            5980.0                                             \n",
       "4                            9668.0                                             \n",
       "...                 ...         ...              ...                      ...   \n",
       "66971                         142.0                                             \n",
       "66972                         129.0                                             \n",
       "66973                         236.0                                             \n",
       "66974                         209.0                                             \n",
       "66975                         140.0                                             \n",
       "\n",
       "      disability section_504  total  \n",
       "0         8128.0              81532  \n",
       "1          217.0               1524  \n",
       "2         1328.0              11914  \n",
       "3         2293.0              18802  \n",
       "4         3778.0              34178  \n",
       "...          ...         ...    ...  \n",
       "66971       47.0                319  \n",
       "66972       35.0                292  \n",
       "66973       95.0                671  \n",
       "66974      104.0                673  \n",
       "66975        1.0                382  \n",
       "\n",
       "[66976 rows x 51 columns]"
      ]
     },
     "execution_count": 205,
     "metadata": {},
     "output_type": "execute_result"
    }
   ],
   "source": [
    "%%bigquery\n",
    "select * from school_enrollments.ut"
   ]
  },
  {
   "cell_type": "code",
   "execution_count": null,
   "metadata": {},
   "outputs": [],
   "source": []
  }
 ],
 "metadata": {
  "environment": {
   "kernel": "python3",
   "name": "common-cpu.m87",
   "type": "gcloud",
   "uri": "gcr.io/deeplearning-platform-release/base-cpu:m87"
  },
  "kernelspec": {
   "display_name": "Python 3",
   "language": "python",
   "name": "python3"
  },
  "language_info": {
   "codemirror_mode": {
    "name": "ipython",
    "version": 3
   },
   "file_extension": ".py",
   "mimetype": "text/x-python",
   "name": "python",
   "nbconvert_exporter": "python",
   "pygments_lexer": "ipython3",
   "version": "3.7.12"
  }
 },
 "nbformat": 4,
 "nbformat_minor": 4
}
