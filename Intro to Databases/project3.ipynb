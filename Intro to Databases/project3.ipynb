{
 "cells": [
  {
   "cell_type": "markdown",
   "metadata": {},
   "source": [
    "### 1) Set environment variables:"
   ]
  },
  {
   "cell_type": "code",
   "execution_count": 1,
   "metadata": {},
   "outputs": [
    {
     "name": "stdout",
     "output_type": "stream",
     "text": [
      "env: PGINSTANCE=pq\n"
     ]
    }
   ],
   "source": [
    "%env PGINSTANCE=pq"
   ]
  },
  {
   "cell_type": "code",
   "execution_count": 2,
   "metadata": {},
   "outputs": [
    {
     "name": "stdout",
     "output_type": "stream",
     "text": [
      "env: BASE_DIR=/home/jupyter/snippets\n"
     ]
    }
   ],
   "source": [
    "%env BASE_DIR=/home/jupyter/snippets"
   ]
  },
  {
   "cell_type": "markdown",
   "metadata": {},
   "source": [
    "### 2) Download Shopify data and code:"
   ]
  },
  {
   "cell_type": "code",
   "execution_count": 3,
   "metadata": {},
   "outputs": [
    {
     "name": "stdout",
     "output_type": "stream",
     "text": [
      "^C\n",
      "Caught CTRL-C (signal 2) - exiting\n"
     ]
    }
   ],
   "source": [
    "!gsutil cp gs://cs327e-open-access/postgres_shopify.zip $BASE_DIR"
   ]
  },
  {
   "cell_type": "code",
   "execution_count": 4,
   "metadata": {},
   "outputs": [
    {
     "name": "stdout",
     "output_type": "stream",
     "text": [
      "unzip:  cannot find or open /home/jupyter/snippets/postgres_shopify.zip, /home/jupyter/snippets/postgres_shopify.zip.zip or /home/jupyter/snippets/postgres_shopify.zip.ZIP.\n"
     ]
    }
   ],
   "source": [
    "!unzip $BASE_DIR/postgres_shopify.zip"
   ]
  },
  {
   "cell_type": "markdown",
   "metadata": {},
   "source": [
    "### 3) Create the shopify tables"
   ]
  },
  {
   "cell_type": "code",
   "execution_count": 5,
   "metadata": {},
   "outputs": [
    {
     "name": "stdout",
     "output_type": "stream",
     "text": [
      "psql:/home/jupyter/snippets/postgres_shopify/create_postgres_tables.sql:1: NOTICE:  drop cascades to 7 other objects\n",
      "DETAIL:  drop cascades to table shopify.apps\n",
      "drop cascades to table shopify.apps_categories\n",
      "drop cascades to table shopify.categories\n",
      "drop cascades to table shopify.key_benefits\n",
      "drop cascades to table shopify.pricing_plans\n",
      "drop cascades to table shopify.pricing_plan_features\n",
      "drop cascades to table shopify.reviews\n",
      "DROP SCHEMA\n",
      "CREATE SCHEMA\n",
      "SET\n",
      "CREATE TABLE\n",
      "CREATE TABLE\n",
      "CREATE TABLE\n",
      "CREATE TABLE\n",
      "CREATE TABLE\n",
      "CREATE TABLE\n",
      "CREATE TABLE\n"
     ]
    }
   ],
   "source": [
    "!psql -c \"\\i $BASE_DIR/postgres_shopify/create_postgres_tables.sql\""
   ]
  },
  {
   "cell_type": "markdown",
   "metadata": {},
   "source": [
    "### 4) Describe the tables"
   ]
  },
  {
   "cell_type": "code",
   "execution_count": 6,
   "metadata": {},
   "outputs": [
    {
     "name": "stdout",
     "output_type": "stream",
     "text": [
      "                           Table \"shopify.apps\"\n",
      "     Column     |          Type           | Collation | Nullable | Default \n",
      "----------------+-------------------------+-----------+----------+---------\n",
      " id             | character(36)           |           | not null | \n",
      " url            | character varying(1000) |           |          | \n",
      " title          | character varying(2000) |           |          | \n",
      " developer      | character varying(100)  |           |          | \n",
      " developer_link | character varying(1000) |           |          | \n",
      " icon           | character varying(1000) |           |          | \n",
      " rating         | double precision        |           |          | \n",
      " reviews_count  | integer                 |           |          | \n",
      "Indexes:\n",
      "    \"apps_pkey\" PRIMARY KEY, btree (id)\n",
      "\n"
     ]
    }
   ],
   "source": [
    "!psql -c \"\\d shopify.apps\""
   ]
  },
  {
   "cell_type": "code",
   "execution_count": 7,
   "metadata": {},
   "outputs": [
    {
     "name": "stdout",
     "output_type": "stream",
     "text": [
      "               Table \"shopify.apps_categories\"\n",
      "   Column    |     Type      | Collation | Nullable | Default \n",
      "-------------+---------------+-----------+----------+---------\n",
      " app_id      | character(36) |           | not null | \n",
      " category_id | character(36) |           | not null | \n",
      "Indexes:\n",
      "    \"apps_categories_pkey\" PRIMARY KEY, btree (app_id, category_id)\n",
      "\n"
     ]
    }
   ],
   "source": [
    "!psql -c \"\\d shopify.apps_categories\""
   ]
  },
  {
   "cell_type": "code",
   "execution_count": 8,
   "metadata": {},
   "outputs": [
    {
     "name": "stdout",
     "output_type": "stream",
     "text": [
      "                    Table \"shopify.categories\"\n",
      " Column |          Type           | Collation | Nullable | Default \n",
      "--------+-------------------------+-----------+----------+---------\n",
      " id     | character(36)           |           | not null | \n",
      " title  | character varying(2000) |           |          | \n",
      "Indexes:\n",
      "    \"categories_pkey\" PRIMARY KEY, btree (id)\n",
      "\n"
     ]
    }
   ],
   "source": [
    "!psql -c \"\\d shopify.categories\""
   ]
  },
  {
   "cell_type": "code",
   "execution_count": 9,
   "metadata": {},
   "outputs": [
    {
     "name": "stdout",
     "output_type": "stream",
     "text": [
      "                      Table \"shopify.key_benefits\"\n",
      "   Column    |          Type           | Collation | Nullable | Default \n",
      "-------------+-------------------------+-----------+----------+---------\n",
      " app_id      | character(36)           |           | not null | \n",
      " title       | character varying(2000) |           | not null | \n",
      " description | character varying(2000) |           |          | \n",
      "Indexes:\n",
      "    \"key_benefits_pkey\" PRIMARY KEY, btree (app_id, title)\n",
      "\n"
     ]
    }
   ],
   "source": [
    "!psql -c \"\\d shopify.key_benefits\""
   ]
  },
  {
   "cell_type": "code",
   "execution_count": 10,
   "metadata": {},
   "outputs": [
    {
     "name": "stdout",
     "output_type": "stream",
     "text": [
      "                   Table \"shopify.pricing_plan_features\"\n",
      "     Column      |          Type           | Collation | Nullable | Default \n",
      "-----------------+-------------------------+-----------+----------+---------\n",
      " pricing_plan_id | character(36)           |           | not null | \n",
      " app_id          | character(36)           |           | not null | \n",
      " feature         | character varying(2000) |           | not null | \n",
      "Indexes:\n",
      "    \"pricing_plan_features_pkey\" PRIMARY KEY, btree (pricing_plan_id, app_id, feature)\n",
      "\n"
     ]
    }
   ],
   "source": [
    "!psql -c \"\\d shopify.pricing_plan_features\""
   ]
  },
  {
   "cell_type": "code",
   "execution_count": 11,
   "metadata": {},
   "outputs": [
    {
     "name": "stdout",
     "output_type": "stream",
     "text": [
      "                       Table \"shopify.reviews\"\n",
      "  Column   |          Type          | Collation | Nullable | Default \n",
      "-----------+------------------------+-----------+----------+---------\n",
      " app_id    | character(36)          |           | not null | \n",
      " author    | character varying(250) |           | not null | \n",
      " rating    | integer                |           |          | \n",
      " posted_at | date                   |           |          | \n",
      "Indexes:\n",
      "    \"reviews_pkey\" PRIMARY KEY, btree (app_id, author)\n",
      "\n"
     ]
    }
   ],
   "source": [
    "!psql -c \"\\d shopify.reviews\""
   ]
  },
  {
   "cell_type": "markdown",
   "metadata": {},
   "source": [
    "### 5. Populate the tables"
   ]
  },
  {
   "cell_type": "code",
   "execution_count": 12,
   "metadata": {},
   "outputs": [
    {
     "name": "stdout",
     "output_type": "stream",
     "text": [
      "Importing data into Cloud SQL instance...done.                                 \n",
      "Imported data from [gs://cs327e-open-access/postgres_shopify/apps.csv] into [https://sqladmin.googleapis.com/sql/v1beta4/projects/reliable-sight-339421/instances/pq].\n"
     ]
    }
   ],
   "source": [
    "!gcloud sql import csv $PGINSTANCE gs://cs327e-open-access/postgres_shopify/apps.csv --database=postgres --table=shopify.apps --quiet\n"
   ]
  },
  {
   "cell_type": "code",
   "execution_count": 13,
   "metadata": {},
   "outputs": [
    {
     "name": "stdout",
     "output_type": "stream",
     "text": [
      "Importing data into Cloud SQL instance...done.                                 \n",
      "Imported data from [gs://cs327e-open-access/postgres_shopify/apps_categories.csv] into [https://sqladmin.googleapis.com/sql/v1beta4/projects/reliable-sight-339421/instances/pq].\n"
     ]
    }
   ],
   "source": [
    "!gcloud sql import csv $PGINSTANCE gs://cs327e-open-access/postgres_shopify/apps_categories.csv --database=postgres --table=shopify.apps_categories --quiet\n"
   ]
  },
  {
   "cell_type": "code",
   "execution_count": 14,
   "metadata": {},
   "outputs": [
    {
     "name": "stdout",
     "output_type": "stream",
     "text": [
      "Importing data into Cloud SQL instance...done.                                 \n",
      "Imported data from [gs://cs327e-open-access/postgres_shopify/categories.csv] into [https://sqladmin.googleapis.com/sql/v1beta4/projects/reliable-sight-339421/instances/pq].\n"
     ]
    }
   ],
   "source": [
    "!gcloud sql import csv $PGINSTANCE gs://cs327e-open-access/postgres_shopify/categories.csv --database=postgres --table=shopify.categories --quiet\n"
   ]
  },
  {
   "cell_type": "code",
   "execution_count": 15,
   "metadata": {},
   "outputs": [
    {
     "name": "stdout",
     "output_type": "stream",
     "text": [
      "Importing data into Cloud SQL instance...done.                                 \n",
      "Imported data from [gs://cs327e-open-access/postgres_shopify/key_benefits.csv] into [https://sqladmin.googleapis.com/sql/v1beta4/projects/reliable-sight-339421/instances/pq].\n"
     ]
    }
   ],
   "source": [
    "!gcloud sql import csv $PGINSTANCE gs://cs327e-open-access/postgres_shopify/key_benefits.csv --database=postgres --table=shopify.key_benefits --quiet\n"
   ]
  },
  {
   "cell_type": "code",
   "execution_count": 16,
   "metadata": {},
   "outputs": [
    {
     "name": "stdout",
     "output_type": "stream",
     "text": [
      "Importing data into Cloud SQL instance...done.                                 \n",
      "Imported data from [gs://cs327e-open-access/postgres_shopify/pricing_plans.csv] into [https://sqladmin.googleapis.com/sql/v1beta4/projects/reliable-sight-339421/instances/pq].\n"
     ]
    }
   ],
   "source": [
    "!gcloud sql import csv $PGINSTANCE gs://cs327e-open-access/postgres_shopify/pricing_plans.csv --database=postgres --table=shopify.pricing_plans --quiet\n"
   ]
  },
  {
   "cell_type": "code",
   "execution_count": 17,
   "metadata": {},
   "outputs": [
    {
     "name": "stdout",
     "output_type": "stream",
     "text": [
      "Importing data into Cloud SQL instance...done.                                 \n",
      "Imported data from [gs://cs327e-open-access/postgres_shopify/pricing_plan_features.csv] into [https://sqladmin.googleapis.com/sql/v1beta4/projects/reliable-sight-339421/instances/pq].\n"
     ]
    }
   ],
   "source": [
    "!gcloud sql import csv $PGINSTANCE gs://cs327e-open-access/postgres_shopify/pricing_plan_features.csv --database=postgres --table=shopify.pricing_plan_features --quiet\n"
   ]
  },
  {
   "cell_type": "code",
   "execution_count": 18,
   "metadata": {},
   "outputs": [
    {
     "name": "stdout",
     "output_type": "stream",
     "text": [
      "Importing data into Cloud SQL instance...done.                                 \n",
      "Imported data from [gs://cs327e-open-access/postgres_shopify/reviews.csv] into [https://sqladmin.googleapis.com/sql/v1beta4/projects/reliable-sight-339421/instances/pq].\n"
     ]
    }
   ],
   "source": [
    "!gcloud sql import csv $PGINSTANCE gs://cs327e-open-access/postgres_shopify/reviews.csv --database=postgres --table=shopify.reviews --quiet\n"
   ]
  },
  {
   "cell_type": "markdown",
   "metadata": {},
   "source": [
    "### 5. Get a record count for each table"
   ]
  },
  {
   "cell_type": "code",
   "execution_count": 19,
   "metadata": {},
   "outputs": [
    {
     "name": "stdout",
     "output_type": "stream",
     "text": [
      " count \n",
      "-------\n",
      "  3547\n",
      "(1 row)\n",
      "\n"
     ]
    }
   ],
   "source": [
    "!psql -c \"select count(*) from shopify.apps\""
   ]
  },
  {
   "cell_type": "code",
   "execution_count": 20,
   "metadata": {},
   "outputs": [
    {
     "name": "stdout",
     "output_type": "stream",
     "text": [
      " count \n",
      "-------\n",
      "  5383\n",
      "(1 row)\n",
      "\n"
     ]
    }
   ],
   "source": [
    "!psql -c \"select count(*) from shopify.apps_categories\""
   ]
  },
  {
   "cell_type": "code",
   "execution_count": 21,
   "metadata": {},
   "outputs": [
    {
     "name": "stdout",
     "output_type": "stream",
     "text": [
      " count \n",
      "-------\n",
      "    12\n",
      "(1 row)\n",
      "\n"
     ]
    }
   ],
   "source": [
    "!psql -c \"select count(*) from shopify.categories\""
   ]
  },
  {
   "cell_type": "code",
   "execution_count": 22,
   "metadata": {},
   "outputs": [
    {
     "name": "stdout",
     "output_type": "stream",
     "text": [
      " count \n",
      "-------\n",
      "  9541\n",
      "(1 row)\n",
      "\n"
     ]
    }
   ],
   "source": [
    "!psql -c \"select count(*) from shopify.key_benefits\""
   ]
  },
  {
   "cell_type": "code",
   "execution_count": 23,
   "metadata": {},
   "outputs": [
    {
     "name": "stdout",
     "output_type": "stream",
     "text": [
      " count \n",
      "-------\n",
      " 16270\n",
      "(1 row)\n",
      "\n"
     ]
    }
   ],
   "source": [
    "!psql -c \"select count(*) from shopify.pricing_plan_features\""
   ]
  },
  {
   "cell_type": "code",
   "execution_count": 24,
   "metadata": {},
   "outputs": [
    {
     "name": "stdout",
     "output_type": "stream",
     "text": [
      " count \n",
      "-------\n",
      "  6275\n",
      "(1 row)\n",
      "\n"
     ]
    }
   ],
   "source": [
    "!psql -c \"select count(*) from shopify.pricing_plans\""
   ]
  },
  {
   "cell_type": "code",
   "execution_count": 25,
   "metadata": {},
   "outputs": [
    {
     "name": "stdout",
     "output_type": "stream",
     "text": [
      " count  \n",
      "--------\n",
      " 124601\n",
      "(1 row)\n",
      "\n"
     ]
    }
   ],
   "source": [
    "!psql -c \"select count(*) from shopify.reviews\""
   ]
  },
  {
   "cell_type": "markdown",
   "metadata": {},
   "source": [
    "### 6. Sample the tables"
   ]
  },
  {
   "cell_type": "code",
   "execution_count": 26,
   "metadata": {},
   "outputs": [
    {
     "name": "stdout",
     "output_type": "stream",
     "text": [
      "                  id                  |                         url                         |             title             |         developer          |                        developer_link                        |                                                                   icon                                                                   | rating | reviews_count \n",
      "--------------------------------------+-----------------------------------------------------+-------------------------------+----------------------------+--------------------------------------------------------------+------------------------------------------------------------------------------------------------------------------------------------------+--------+---------------\n",
      " 683d06af-14c7-4733-9bde-ec5b699af886 | https://apps.shopify.com/facebook-store             | Facebook Shop channel         | Shopify                    | https://apps.shopify.com/partners/shopify                    | https://apps.shopifycdn.com/listing_images/d89827eee683b30743dab8a8c3a4c56f/icon/dd3e663d67c894a34a325ea819404950.png?height=84&width=84 |    2.5 |           542\n",
      " 562a0052-f1de-4919-896f-546e453f33cd | https://apps.shopify.com/mailerlite-email-marketing | MailerLite Email Marketing    | MailerLite                 | https://apps.shopify.com/partners/ml-newsletters             | https://apps.shopifycdn.com/listing_images/d2555aedca494035e9b9d9858d099a54/icon/683e7a27f031a872269521e7b111c1f1.png?height=84&width=84 |      3 |            49\n",
      " c35c71f4-eeb3-4ff8-856a-f7e2b89aca32 | https://apps.shopify.com/syncommerce                | SynCommerce                   | Mavericks Technologies Ltd | https://apps.shopify.com/partners/mavericks-technologies-ltd | https://apps.shopifycdn.com/listing_images/3cd18d1611d08c8929f8075714568dae/icon/cd4f6576761844c4ddd5b5c1d030aa36.png?height=84&width=84 |      3 |            81\n",
      " 7a282c82-620e-4b4b-955a-e91a2fbb0d9e | https://apps.shopify.com/wanelo                     | Wanelo                        | Wanelo                     | https://apps.shopify.com/partners/wanelo                     | https://apps.shopifycdn.com/listing_images/dfa55da6d6d34532879d7ac598377529/icon/f4ead108b5fd2b4b469105f4b27c6dae.png?height=84&width=84 |      3 |           190\n",
      " befdf234-4b61-474b-b0b8-bf6dc59db2be | https://apps.shopify.com/adroll-retargeting         | AdRoll Ads & Retargeting      | AdRoll                     | https://apps.shopify.com/partners/adroll                     | https://apps.shopifycdn.com/listing_images/6ebaf39a3592a11d95d4436f522e6bc0/icon/007f106ab4a5209c3560c749e94c6990.png?height=84&width=84 |    3.5 |           132\n",
      " fc4456a8-ed08-4b9a-8fcb-2cb4563fbac2 | https://apps.shopify.com/slider-app-by-hulkapps     | Image Slider & Hero Banner    | HulkApps.com               | https://apps.shopify.com/partners/hulk-code                  | https://apps.shopifycdn.com/listing_images/b615ad79a257362bf563dc990736a75d/icon/f6713fdb379be502586ad25defa52a20.png?height=84&width=84 |    3.5 |            44\n",
      " bb04a615-7645-4ddc-a1fd-ed6fef501a0d | https://apps.shopify.com/affiliate                  | AAA ‑ Affiliate Marketing PRO | AAAeCommerce Inc           | https://apps.shopify.com/partners/aaawebstore                | https://apps.shopifycdn.com/listing_images/b40df7fe45d61bc27de4de04cf83cbae/icon/a9254e3723c0c60e3bc7093d077aa587.png?height=84&width=84 |    3.5 |            34\n",
      "(7 rows)\n",
      "\n"
     ]
    }
   ],
   "source": [
    "!psql -c \"select * from shopify.apps limit 7\""
   ]
  },
  {
   "cell_type": "code",
   "execution_count": 27,
   "metadata": {},
   "outputs": [
    {
     "name": "stdout",
     "output_type": "stream",
     "text": [
      "                app_id                |             category_id              \n",
      "--------------------------------------+--------------------------------------\n",
      " 94e751e2-eb8f-42c1-810d-bddb71ed6cbd | 26a72de0d02e0e4e5f615332d61a878e    \n",
      " 43850ba2-302f-40cc-8140-5835f2fe7a1b | 26a72de0d02e0e4e5f615332d61a878e    \n",
      " 4c0d0351-6764-4332-b1e4-caa746b3eca9 | 26a72de0d02e0e4e5f615332d61a878e    \n",
      " 9b4045ac-dff1-4933-9cb6-6a9cb6a0bf65 | 26a72de0d02e0e4e5f615332d61a878e    \n",
      " dcd5271f-0ccf-4822-84f6-4b38208bf6ef | 26a72de0d02e0e4e5f615332d61a878e    \n",
      " c7a86427-c015-4b1f-92e2-6b0aa2151070 | 26a72de0d02e0e4e5f615332d61a878e    \n",
      " da63498e-5d98-44a6-9f28-f43e53457be7 | 26a72de0d02e0e4e5f615332d61a878e    \n",
      "(7 rows)\n",
      "\n"
     ]
    }
   ],
   "source": [
    "!psql -c \"select * from shopify.apps_categories limit 7\""
   ]
  },
  {
   "cell_type": "code",
   "execution_count": 28,
   "metadata": {},
   "outputs": [
    {
     "name": "stdout",
     "output_type": "stream",
     "text": [
      "                  id                  |               title               \n",
      "--------------------------------------+-----------------------------------\n",
      " 64430ad2835be8ad60c59e7d44e4b0b1     | Customer support\n",
      " 737ad50051083aa051d127a53b3ac0da     | Productivity\n",
      " 30a930262efca129caafcd586bc7e6fe     | Places to sell\n",
      " 30ea2315e910c5e5335de42d5e87dca5     | Orders and shipping\n",
      " c769c2bd15500dd906102d9be97fdceb     | Marketing\n",
      " 26a72de0d02e0e4e5f615332d61a878e     | Finances\n",
      " 5eb4e29e50e3f178acc614236ed107f4     | Sales and conversion optimization\n",
      "(7 rows)\n",
      "\n"
     ]
    }
   ],
   "source": [
    "!psql -c \"select * from shopify.categories limit 7\""
   ]
  },
  {
   "cell_type": "code",
   "execution_count": 29,
   "metadata": {},
   "outputs": [
    {
     "name": "stdout",
     "output_type": "stream",
     "text": [
      "                app_id                |             title              |                                                                 description                                                                  \n",
      "--------------------------------------+--------------------------------+----------------------------------------------------------------------------------------------------------------------------------------------\n",
      " 00289a9f-9f12-45b1-963b-67e78403f7c7 | Improve order size             | Increase your Sales and Order Size\n",
      " 00289a9f-9f12-45b1-963b-67e78403f7c7 | Multiple Upsells and Triggers  | After Add to Cart, Checkout Popup, or Exit Intent\n",
      " 00289a9f-9f12-45b1-963b-67e78403f7c7 | Add more products to cart      | Upsell and Cross-Sell Popups\n",
      " 00312cea-3595-4d65-a60d-6e8e5b7d6897 | Best-in-class website security | Protect your Shopify store with best-in-class security. New Shop Protector Plus available to invisibly block bots in background (read more).\n",
      " 00312cea-3595-4d65-a60d-6e8e5b7d6897 | Guards against account fraud   | Your Shopify store traffic is analyzed in real time to protect against fake account creation and potentially fraudulent activity.\n",
      " 00312cea-3595-4d65-a60d-6e8e5b7d6897 | Eliminates annoying form spam  | Shop Protector prevents bots from filling out forms. Stop those annoying contact form and newsletter sign-up spam submissions.\n",
      " 003b3dbd-1295-48cb-a3e8-8f3a0e8fc6df | Reduce shopping time           | Reduce shopping time, and improve customer experience. Increase your sales.\n",
      "(7 rows)\n",
      "\n"
     ]
    }
   ],
   "source": [
    "!psql -c \"select * from shopify.key_benefits limit 7\""
   ]
  },
  {
   "cell_type": "code",
   "execution_count": 30,
   "metadata": {},
   "outputs": [
    {
     "name": "stdout",
     "output_type": "stream",
     "text": [
      "                  id                  |                app_id                |      title      | price \n",
      "--------------------------------------+--------------------------------------+-----------------+-------\n",
      " 89c9f488-de5e-4eed-b8d6-f928373f39a9 | 6afe1c17-a42c-4efd-ac2e-583eedd27c02 | Partner         |     0\n",
      " c8571997-f0c5-4947-a60e-aeb32357bd19 | 75c8cf82-20c3-40e4-8433-3fd3b3ff6e16 | 1 store (Basic) |     0\n",
      " 52056a87-7c25-4178-ac3a-90f9ef5a880c | b26d38b3-89fb-453b-9b74-253a679d134d | Try-out         |     0\n",
      " 8af97ca6-8943-4622-97e3-e6a9506ade7e | 068d655d-3236-4b6b-acea-0f8847b2e4f8 | ALWAYS FREE     |     0\n",
      " 292a6d03-0e7e-4428-99b1-6d7db43bc984 | b22d2154-90b5-4c67-b79d-95df2d81628f | Startup         |     0\n",
      " 8e56b220-ec67-47e5-a8af-4079822ae8c0 | 492592d8-7bf1-4028-b956-813348cabc5d | Bronze          |     0\n",
      " 3e857e28-b50f-484b-9616-fc10ec70fa4e | bede3965-7dd4-448c-8329-c1bf84c5913d | Demo            |     0\n",
      "(7 rows)\n",
      "\n"
     ]
    }
   ],
   "source": [
    "!psql -c \"select * from shopify.pricing_plans limit 7\""
   ]
  },
  {
   "cell_type": "code",
   "execution_count": 31,
   "metadata": {},
   "outputs": [
    {
     "name": "stdout",
     "output_type": "stream",
     "text": [
      "           pricing_plan_id            |                app_id                |                feature                 \n",
      "--------------------------------------+--------------------------------------+----------------------------------------\n",
      " 746bc28d-5bc5-42cb-9d59-1b19c9a8301d | 00312cea-3595-4d65-a60d-6e8e5b7d6897 | Reduce Bot-Based Fraud\n",
      " 746bc28d-5bc5-42cb-9d59-1b19c9a8301d | 00312cea-3595-4d65-a60d-6e8e5b7d6897 | Bulk Cancel Orders\n",
      " 746bc28d-5bc5-42cb-9d59-1b19c9a8301d | 00312cea-3595-4d65-a60d-6e8e5b7d6897 | Configurable Rules for Auto-mitigation\n",
      " 746bc28d-5bc5-42cb-9d59-1b19c9a8301d | 00312cea-3595-4d65-a60d-6e8e5b7d6897 | Checkout Protection\n",
      " 746bc28d-5bc5-42cb-9d59-1b19c9a8301d | 00312cea-3595-4d65-a60d-6e8e5b7d6897 | (Includes all SP Basic Features...)\n",
      " 8215de67-2fbe-4504-885e-ab1aff7fa31a | 00312cea-3595-4d65-a60d-6e8e5b7d6897 | Fake Account Prevention\n",
      " 8215de67-2fbe-4504-885e-ab1aff7fa31a | 00312cea-3595-4d65-a60d-6e8e5b7d6897 | Form Spam Protection\n",
      "(7 rows)\n",
      "\n"
     ]
    }
   ],
   "source": [
    "!psql -c \"select * from shopify.pricing_plan_features limit 7\""
   ]
  },
  {
   "cell_type": "code",
   "execution_count": 32,
   "metadata": {},
   "outputs": [
    {
     "name": "stdout",
     "output_type": "stream",
     "text": [
      "                app_id                |         author         | rating | posted_at  \n",
      "--------------------------------------+------------------------+--------+------------\n",
      " 00289a9f-9f12-45b1-963b-67e78403f7c7 | Hellobeanies           |      5 | 2017-09-01\n",
      " 00289a9f-9f12-45b1-963b-67e78403f7c7 | Pdmovie                |      1 | 2016-10-09\n",
      " 00289a9f-9f12-45b1-963b-67e78403f7c7 | Mommymakeup            |      1 | 2016-11-17\n",
      " 00289a9f-9f12-45b1-963b-67e78403f7c7 | The King Herb Enhancer |      5 | 2016-12-01\n",
      " 00289a9f-9f12-45b1-963b-67e78403f7c7 | Training Top           |      4 | 2018-05-02\n",
      " 005d6c7a-9eb9-4b35-bdd4-040d383e86cf | Natural Vegan          |      5 | 2019-11-15\n",
      " 005d6c7a-9eb9-4b35-bdd4-040d383e86cf | Munchiecat             |      5 | 2019-08-20\n",
      "(7 rows)\n",
      "\n"
     ]
    }
   ],
   "source": [
    "!psql -c \"select * from shopify.reviews limit 7\""
   ]
  },
  {
   "cell_type": "markdown",
   "metadata": {},
   "source": [
    "### Prompt 1: Create the Foreign Keys\n",
    "#### Hint: `alter table shopify.apps_categories add foreign key (app_id) REFERENCES shopify.apps (id)`"
   ]
  },
  {
   "cell_type": "code",
   "execution_count": 33,
   "metadata": {},
   "outputs": [
    {
     "name": "stdout",
     "output_type": "stream",
     "text": [
      "ALTER TABLE\n"
     ]
    }
   ],
   "source": [
    "!psql -c \"alter table shopify.apps_categories add foreign key (app_id) REFERENCES shopify.apps (id)\""
   ]
  },
  {
   "cell_type": "code",
   "execution_count": 34,
   "metadata": {},
   "outputs": [
    {
     "name": "stdout",
     "output_type": "stream",
     "text": [
      "ALTER TABLE\n"
     ]
    }
   ],
   "source": [
    "!psql -c \"alter table shopify.key_benefits add foreign key (app_id) REFERENCES shopify.apps (id)\""
   ]
  },
  {
   "cell_type": "code",
   "execution_count": 35,
   "metadata": {},
   "outputs": [
    {
     "name": "stdout",
     "output_type": "stream",
     "text": [
      "ALTER TABLE\n"
     ]
    }
   ],
   "source": [
    "!psql -c \"alter table shopify.pricing_plans add foreign key (app_id) REFERENCES shopify.apps (id)\""
   ]
  },
  {
   "cell_type": "code",
   "execution_count": 36,
   "metadata": {},
   "outputs": [
    {
     "name": "stdout",
     "output_type": "stream",
     "text": [
      "ALTER TABLE\n"
     ]
    }
   ],
   "source": [
    "!psql -c \"alter table shopify.pricing_plan_features add foreign key (app_id) REFERENCES shopify.apps (id)\""
   ]
  },
  {
   "cell_type": "code",
   "execution_count": 37,
   "metadata": {},
   "outputs": [
    {
     "name": "stdout",
     "output_type": "stream",
     "text": [
      "ALTER TABLE\n"
     ]
    }
   ],
   "source": [
    "!psql -c \"alter table shopify.pricing_plan_features add foreign key (pricing_plan_id) REFERENCES shopify.pricing_plans (id)\""
   ]
  },
  {
   "cell_type": "code",
   "execution_count": 38,
   "metadata": {},
   "outputs": [
    {
     "name": "stdout",
     "output_type": "stream",
     "text": [
      "ALTER TABLE\n"
     ]
    }
   ],
   "source": [
    "!psql -c \"alter table shopify.apps_categories add foreign key (category_id) REFERENCES shopify.categories (id)\""
   ]
  },
  {
   "cell_type": "code",
   "execution_count": 39,
   "metadata": {},
   "outputs": [
    {
     "name": "stdout",
     "output_type": "stream",
     "text": [
      "ALTER TABLE\n"
     ]
    }
   ],
   "source": [
    "!psql -c \"alter table shopify.reviews add foreign key (app_id) REFERENCES shopify.apps (id)\""
   ]
  },
  {
   "cell_type": "markdown",
   "metadata": {},
   "source": [
    "### 7. Run in a transaction:\n",
    "#### Insert a new Shopify app"
   ]
  },
  {
   "cell_type": "code",
   "execution_count": 40,
   "metadata": {},
   "outputs": [
    {
     "name": "stdout",
     "output_type": "stream",
     "text": [
      "SET\n",
      "BEGIN\n",
      "INSERT 0 1\n",
      "INSERT 0 1\n",
      "INSERT 0 1\n",
      "INSERT 0 1\n",
      "INSERT 0 1\n",
      "COMMIT\n"
     ]
    }
   ],
   "source": [
    "!psql -c \"\\i $BASE_DIR/postgres_shopify/insert_tx.sql\""
   ]
  },
  {
   "cell_type": "markdown",
   "metadata": {},
   "source": [
    "### Prompt 2: Run in a transaction\n",
    "#### 1) Get a record count of the pricing plans whose price > 0. \n",
    "#### 2) In a transaction, perform the following logic:\n",
    "#####    -update pricing plans to half of their price value if their price > 0. \n",
    "#####    -update the title of the pricing plans whose price > 0 by adding the suffix ' Half Price' to the current title. Use the `concat(str1, str2)` function to update the title. "
   ]
  },
  {
   "cell_type": "code",
   "execution_count": 41,
   "metadata": {},
   "outputs": [
    {
     "name": "stdout",
     "output_type": "stream",
     "text": [
      "SET\n",
      "BEGIN\n",
      "UPDATE 4780\n",
      "UPDATE 4780\n",
      "COMMIT\n"
     ]
    }
   ],
   "source": [
    "!psql -c \"\\i $BASE_DIR/postgres_shopify/update_tx.sql\""
   ]
  },
  {
   "cell_type": "markdown",
   "metadata": {},
   "source": [
    "### Prompt 3: Run in a transaction\n",
    "#### Delete the Shopify apps record for id = '683d06af-14c7-4733-9bde-ec5b699af996' and all of its related records. Hint: you should be deleting records from 5 tables. "
   ]
  },
  {
   "cell_type": "code",
   "execution_count": 42,
   "metadata": {},
   "outputs": [
    {
     "name": "stdout",
     "output_type": "stream",
     "text": [
      "SET\n",
      "BEGIN\n",
      "DELETE 1\n",
      "DELETE 1\n",
      "DELETE 1\n",
      "DELETE 1\n",
      "DELETE 1\n",
      "COMMIT\n"
     ]
    }
   ],
   "source": [
    "!psql -c \"\\i $BASE_DIR/postgres_shopify/delete_tx.sql\""
   ]
  },
  {
   "cell_type": "code",
   "execution_count": null,
   "metadata": {},
   "outputs": [],
   "source": []
  },
  {
   "cell_type": "code",
   "execution_count": 43,
   "metadata": {},
   "outputs": [],
   "source": [
    "#begin project 3 work"
   ]
  },
  {
   "cell_type": "code",
   "execution_count": null,
   "metadata": {},
   "outputs": [],
   "source": []
  },
  {
   "cell_type": "code",
   "execution_count": 44,
   "metadata": {},
   "outputs": [
    {
     "name": "stdout",
     "output_type": "stream",
     "text": [
      "/home/jupyter/snippets/insert_tx.sql: No such file or directory\n"
     ]
    }
   ],
   "source": [
    "#added a new app 'example' with 2 reviews for this app from Jordan and Graham\n",
    "!psql -c \"\\i $BASE_DIR/insert_tx.sql\""
   ]
  },
  {
   "cell_type": "code",
   "execution_count": 45,
   "metadata": {},
   "outputs": [
    {
     "name": "stdout",
     "output_type": "stream",
     "text": [
      " id | url | title | developer | developer_link | icon | rating | reviews_count \n",
      "----+-----+-------+-----------+----------------+------+--------+---------------\n",
      "(0 rows)\n",
      "\n"
     ]
    }
   ],
   "source": [
    "#showing app insert statement\n",
    "!psql -c \"select * from shopify.apps where id = 'example_id'\""
   ]
  },
  {
   "cell_type": "code",
   "execution_count": 46,
   "metadata": {},
   "outputs": [
    {
     "name": "stdout",
     "output_type": "stream",
     "text": [
      " app_id | author | rating | posted_at \n",
      "--------+--------+--------+-----------\n",
      "(0 rows)\n",
      "\n"
     ]
    }
   ],
   "source": [
    "#showing review insert statements\n",
    "!psql -c \"select * from shopify.reviews where app_id = 'example_id'\""
   ]
  },
  {
   "cell_type": "code",
   "execution_count": 47,
   "metadata": {},
   "outputs": [
    {
     "name": "stdout",
     "output_type": "stream",
     "text": [
      "                app_id                |           title           |                                                              description                                                               \n",
      "--------------------------------------+---------------------------+----------------------------------------------------------------------------------------------------------------------------------------\n",
      " 901ba62f-d394-4719-a184-ae788ba257f2 | Drive Back In Stock Sales | 20% conversion on back in stock alert traffic from email, Facebook & Instagram ads. Grow your email list with opt in at alert sign up.\n",
      "(1 row)\n",
      "\n"
     ]
    }
   ],
   "source": [
    "!psql -c \"select * from shopify.key_benefits where title = 'Drive Back In Stock Sales'\""
   ]
  },
  {
   "cell_type": "code",
   "execution_count": 48,
   "metadata": {},
   "outputs": [
    {
     "name": "stdout",
     "output_type": "stream",
     "text": [
      "/home/jupyter/snippets/update_tx.sql: No such file or directory\n"
     ]
    }
   ],
   "source": [
    "#Changed the developer 'Shopify' to 'Shopify Technology' in apps\n",
    "#Changed title for category with id = '26a72de0d02e0e4e5f615332d61a878e' to 'Finances and Accounting'--title was previously 'Finances'\n",
    "!psql -c \"\\i $BASE_DIR/update_tx.sql\""
   ]
  },
  {
   "cell_type": "code",
   "execution_count": 49,
   "metadata": {},
   "outputs": [
    {
     "name": "stdout",
     "output_type": "stream",
     "text": [
      "                  id                  |                        url                         |           title           | developer |              developer_link               |                                                                        icon                                                                         | rating | reviews_count \n",
      "--------------------------------------+----------------------------------------------------+---------------------------+-----------+-------------------------------------------+-----------------------------------------------------------------------------------------------------------------------------------------------------+--------+---------------\n",
      " 683d06af-14c7-4733-9bde-ec5b699af886 | https://apps.shopify.com/facebook-store            | Facebook Shop channel     | Shopify   | https://apps.shopify.com/partners/shopify | https://apps.shopifycdn.com/listing_images/d89827eee683b30743dab8a8c3a4c56f/icon/dd3e663d67c894a34a325ea819404950.png?height=84&width=84            |    2.5 |           542\n",
      " 06d464f4-56cf-434b-90e3-17044ad0b0ac | https://apps.shopify.com/facebook-marketing        | Facebook Marketing        | Shopify   | https://apps.shopify.com/partners/shopify | https://apps.shopifycdn.com/listing_images/21d07b9a03ab6e538a053381def7b15d/icon/0640d35d0d3ce17489f7d661f6b4a250.png?height=84&width=84            |    2.4 |            81\n",
      " 3ef8cb6f-4ae8-40cb-a867-ed7c5bf08d72 | https://apps.shopify.com/shopify-pos               | Point of Sale             | Shopify   | https://apps.shopify.com/partners/shopify | https://apps.shopifycdn.com/listing_images/a53cf2ce9b5dabf5dd222b3615c29569/icon/b9e19ee86328ad8a0a71c4170640b1eb.png?height=84&width=84            |    2.9 |            89\n",
      " 3f954f41-f123-40e7-8bd4-500fc62d23b9 | https://apps.shopify.com/buy-button                | Buy Button channel        | Shopify   | https://apps.shopify.com/partners/shopify | https://apps.shopifycdn.com/listing_images/5076396ac61bba417a451577630ddc08/icon/c2f52f30a2083cec84aa17576c6b6e6f.png?height=84&width=84            |    3.4 |           190\n",
      " f6961d6d-ae13-45a9-bbf9-f2a670840ec2 | https://apps.shopify.com/fraud-filter              | Fraud Filter              | Shopify   | https://apps.shopify.com/partners/shopify | https://apps.shopifycdn.com/listing_images/8f1af6f76d5f91c40b0943bc757a0da1/icon/90b5079ad1ba7d4cac0f3d37f82e7859.jpg?height=84&quality=90&width=84 |    3.3 |           136\n",
      " fe7a3052-c779-489d-a240-2fe8b7e3cf8b | https://apps.shopify.com/messenger                 | Messenger channel         | Shopify   | https://apps.shopify.com/partners/shopify | https://apps.shopifycdn.com/listing_images/048d92a2a5d4f1e86291d9e8261906b5/icon/021750439d78480eeddbe006698d40f8.png?height=84&width=84            |    3.7 |            67\n",
      " 2f07545e-45e2-40b0-8a40-ef55570cf4f9 | https://apps.shopify.com/oberlo                    | Oberlo ‑ Dropshipping App | Shopify   | https://apps.shopify.com/partners/shopify | https://apps.shopifycdn.com/listing_images/b1983a5240f536f4369a3e5861489e9c/icon/dc1e2016ce46b3ba63c2a25958579d89.png?height=84&width=84            |    4.6 |          2382\n",
      " 2444797c-63f4-44b4-8144-b56369fe9194 | https://apps.shopify.com/chat                      | Shopify Chat              | Shopify   | https://apps.shopify.com/partners/shopify | https://apps.shopifycdn.com/listing_images/5c413ee331721e49374ce06d0a7edc1b/icon/c001ba60accb0992389a30f3a8e117e0.png?height=84&width=84            |    2.2 |            38\n",
      " a164327c-50f0-4743-8a09-2970d1a78f0d | https://apps.shopify.com/order-printer             | Order Printer             | Shopify   | https://apps.shopify.com/partners/shopify | https://apps.shopifycdn.com/listing_images/86ba59615730a0f83ddd94b8d96d470c/icon/caab2fae2b189238d67de1faf239d5d9.png?height=84&width=84            |    3.7 |           679\n",
      " d686aaa5-f537-410b-ab49-2146af933903 | https://apps.shopify.com/digital-downloads         | Digital Downloads         | Shopify   | https://apps.shopify.com/partners/shopify | https://apps.shopifycdn.com/listing_images/602903db3dc6fd0052d12585748da098/icon/c86c2fb86f23c407cb9a3387f627c3f7.png?height=84&width=84            |    3.7 |           208\n",
      " 0c221d3a-81a2-4b90-9a90-c5a45a97a5bb | https://apps.shopify.com/product-reviews           | Product Reviews           | Shopify   | https://apps.shopify.com/partners/shopify | https://apps.shopifycdn.com/listing_images/60fca9c7f3400ddd43004e94b1355691/icon/a8f35d011cf83221b2ad1f280ff8d236.png?height=84&width=84            |    4.4 |          1244\n",
      " b52085d4-fe58-4249-b103-700e3e2e5f40 | https://apps.shopify.com/stocky                    | Stocky                    | Shopify   | https://apps.shopify.com/partners/shopify | https://apps.shopifycdn.com/listing_images/2c3e75a5cc00f53379485a2d0455d265/icon/a3e5b065eb3af5cd4bad260ce461fd66.png?height=84&width=84            |    4.9 |           134\n",
      " f10cb35f-e7f3-4fa5-adda-3a0c0ca89f4a | https://apps.shopify.com/instagram                 | Instagram channel         | Shopify   | https://apps.shopify.com/partners/shopify | https://apps.shopifycdn.com/listing_images/e47f922e057de8e341967bbd31444fdb/icon/e37a95d8cacac4f0d7e85154b364dfef.png?height=84&width=84            |    1.6 |           535\n",
      " e6e43ab5-f278-4367-b35f-b6f4c12a3f02 | https://apps.shopify.com/retail-barcode-labels     | Retail Barcode Labels     | Shopify   | https://apps.shopify.com/partners/shopify | https://apps.shopifycdn.com/listing_images/6d282cc5913a7ef8cac3e56bfe47d868/icon/3f6fe199579998a120d59785b97622e3.png?height=84&width=84            |    2.1 |           250\n",
      " c2be2f60-cb11-472b-8b7a-49604b02bc1e | https://apps.shopify.com/google-shopping           | Google Shopping           | Shopify   | https://apps.shopify.com/partners/shopify | https://apps.shopifycdn.com/listing_images/a78e004f44cded1b6998e7a6e081a230/icon/75cca60559bdb1d019238e21dffb1eef.png?height=84&width=84            |    3.1 |           940\n",
      " a767af17-0eee-4828-810c-e624337b3149 | https://apps.shopify.com/amazon                    | Amazon channel            | Shopify   | https://apps.shopify.com/partners/shopify | https://apps.shopifycdn.com/listing_images/220d8252b32f56aaa7c25c1a3c7a3d6c/icon/9546859bac46f32d5f695f2cf5e14c0c.png?height=84&width=84            |    1.8 |           138\n",
      " 227fc183-41c3-491c-a6bb-76a1346bcee4 | https://apps.shopify.com/transporter               | Transporter               | Shopify   | https://apps.shopify.com/partners/shopify | https://apps.shopifycdn.com/listing_images/7d7e189eb159ac8f824652f936c2509a/icon/3a8390abf6f1c2da3c7b8f31486e6b77.png?height=84&width=84            |    2.5 |             2\n",
      " 0df6a019-9c33-4ad5-8372-d88ce483b676 | https://apps.shopify.com/script-editor             | Script Editor             | Shopify   | https://apps.shopify.com/partners/shopify | https://apps.shopifycdn.com/listing_images/d25e45407e508f96409c2dd796e9bd95/icon/f59d3e093924bf16fefe686f3f6fa1e6.png?height=84&width=84            |    4.2 |            12\n",
      " 6c69a20b-c9a0-423a-8f15-b83bc52d7100 | https://apps.shopify.com/apple-business-chat       | Apple Business Chat       | Shopify   | https://apps.shopify.com/partners/shopify | https://apps.shopifycdn.com/listing_images/d54db37146fe5e64e2f5aa74f6d21887/icon/aebdada5ef904c0499c7938976ad2cc6.png?height=84&width=84            |    3.2 |            14\n",
      " db9cc5d2-c3a5-4598-b248-2a3177852e7d | https://apps.shopify.com/flow                      | Shopify Flow              | Shopify   | https://apps.shopify.com/partners/shopify | https://apps.shopifycdn.com/listing_images/15100ebca4d221b650a7671125cd1444/icon/074a1ed70070eb35c8317d3dd4786acd.png?height=84&width=84            |      4 |            15\n",
      " f2316d3a-ab3c-4e05-89c7-37657b013825 | https://apps.shopify.com/launchpad                 | Launchpad                 | Shopify   | https://apps.shopify.com/partners/shopify | https://apps.shopifycdn.com/listing_images/3a46c03e91e140a181c00f22976ab8f9/icon/9dae932344eb8e8661d7f011224eb4ed.png?height=84&width=84            |    3.8 |            21\n",
      " 422a28b7-3db5-42e2-8c1d-349390412c45 | https://apps.shopify.com/shopcodes                 | Shopcodes                 | Shopify   | https://apps.shopify.com/partners/shopify | https://apps.shopifycdn.com/listing_images/f275e782599af4c0493dc533051a306f/icon/166b21ac9bbc7099910ab94bd5ea3a7f.png?height=84&width=84            |    4.2 |            26\n",
      " f64300ac-c011-4eaa-be69-a6a949950c42 | https://apps.shopify.com/advanced-cash-on-delivery | Advanced Cash on Delivery | Shopify   | https://apps.shopify.com/partners/shopify | https://apps.shopifycdn.com/listing_images/ceb1a596e2b039d02dfb5772303f6273/icon/4bb12395506abdcb1a82257e13f7c6ea.png?height=84&width=84            |    2.3 |            35\n",
      "(23 rows)\n",
      "\n"
     ]
    }
   ],
   "source": [
    "!psql -c \"select * from shopify.apps where developer = 'Shopify'\""
   ]
  },
  {
   "cell_type": "code",
   "execution_count": 50,
   "metadata": {},
   "outputs": [
    {
     "name": "stdout",
     "output_type": "stream",
     "text": [
      " id | url | title | developer | developer_link | icon | rating | reviews_count \n",
      "----+-----+-------+-----------+----------------+------+--------+---------------\n",
      "(0 rows)\n",
      "\n"
     ]
    }
   ],
   "source": [
    "!psql -c \"select * from shopify.apps where developer = 'Shopify Technology' limit 7\""
   ]
  },
  {
   "cell_type": "code",
   "execution_count": 51,
   "metadata": {},
   "outputs": [
    {
     "name": "stdout",
     "output_type": "stream",
     "text": [
      "                  id                  |  title   \n",
      "--------------------------------------+----------\n",
      " 26a72de0d02e0e4e5f615332d61a878e     | Finances\n",
      "(1 row)\n",
      "\n"
     ]
    }
   ],
   "source": [
    "!psql -c \"select * from shopify.categories where id = '26a72de0d02e0e4e5f615332d61a878e'\""
   ]
  },
  {
   "cell_type": "code",
   "execution_count": 52,
   "metadata": {},
   "outputs": [
    {
     "name": "stdout",
     "output_type": "stream",
     "text": [
      "/home/jupyter/snippets/delete_tx.sql: No such file or directory\n"
     ]
    }
   ],
   "source": [
    "#deleted the reviews for the app we made titled 'example', then deleted the app 'example'\n",
    "!psql -c \"\\i $BASE_DIR/delete_tx.sql\""
   ]
  },
  {
   "cell_type": "code",
   "execution_count": 53,
   "metadata": {},
   "outputs": [
    {
     "name": "stdout",
     "output_type": "stream",
     "text": [
      " id | url | title | developer | developer_link | icon | rating | reviews_count \n",
      "----+-----+-------+-----------+----------------+------+--------+---------------\n",
      "(0 rows)\n",
      "\n"
     ]
    }
   ],
   "source": [
    "#showing app delete statement\n",
    "!psql -c \"select * from shopify.apps where id = 'example_id'\""
   ]
  },
  {
   "cell_type": "code",
   "execution_count": 54,
   "metadata": {},
   "outputs": [
    {
     "name": "stdout",
     "output_type": "stream",
     "text": [
      " app_id | author | rating | posted_at \n",
      "--------+--------+--------+-----------\n",
      "(0 rows)\n",
      "\n"
     ]
    }
   ],
   "source": [
    "#showing review delete statements\n",
    "!psql -c \"select * from shopify.reviews where app_id = 'example_id'\""
   ]
  },
  {
   "cell_type": "code",
   "execution_count": 55,
   "metadata": {},
   "outputs": [],
   "source": [
    "#write SQL for the queries below"
   ]
  },
  {
   "cell_type": "code",
   "execution_count": 60,
   "metadata": {},
   "outputs": [
    {
     "name": "stdout",
     "output_type": "stream",
     "text": [
      "                app_id                |        developer         | rating | reviews_count \n",
      "--------------------------------------+--------------------------+--------+---------------\n",
      " f5344e64-9cda-4d97-b198-2aaeb5170518 | Modd Apps Inc.           |      5 |           223\n",
      " c7578030-19fd-42e1-a5a5-03c7861220aa | Onjection Labs           |      5 |           219\n",
      " d0be03ff-f74d-4fb5-8d2c-79541a1aea1b | Excelify.io              |      5 |           178\n",
      " bb0ec62d-8a5d-45a5-bd46-48fbcb888077 | Kapusta Technologies Ltd |      5 |           170\n",
      " 4d6b0f1b-12b1-43d6-af33-c3c006a31da7 | Power Tools              |      5 |           150\n",
      " f99bb1e3-f326-4f10-8901-491652e9809b | Union Works Apps         |      5 |            68\n",
      " 6bbcc4a2-eeb5-4d58-9ce5-f4cf2d4dd0d4 | Ablestar                 |    4.9 |           103\n",
      " d3a6d93c-4463-4533-a712-29addc0b5a8b | Boltics                  |    4.9 |            95\n",
      " e8a37cbe-79da-4062-b4af-f84e749ce125 | Syncio                   |    4.9 |            68\n",
      " 80a8218e-0cf9-4836-a77b-bff73900e935 | Hextom                   |    4.8 |          1064\n",
      " 3aaf2fed-7c5e-4330-9287-db50e5268515 | Firepush                 |    4.8 |           667\n",
      " bfb764b5-e564-4a45-aae6-e2b6ef2b1a4f | Gorgias                  |    4.8 |           253\n",
      " 3541d4d3-2963-49b8-b650-a64825b9c202 | Buymaxx                  |    4.8 |           250\n",
      " 64f79147-e18d-4209-9374-b0dae65ee873 | How Many Steps Inc.      |    4.8 |           141\n",
      " cf733da2-6b5e-44af-94df-2d5c3b8e2502 | Hextom                   |    4.8 |           131\n",
      " 80a731d2-e2a2-4922-92a6-c07ea2b964e1 | Power Tools              |    4.8 |            88\n",
      " 5f3279fc-5759-43a5-9abf-60ef82372bee | AfterShip + Automizely   |    4.7 |           981\n",
      " 797060ad-17d6-4e46-a728-8ecafddb6c64 | Stock Sync               |    4.7 |           490\n",
      " c6a38c5a-5d32-4aea-9f93-4139d69fe007 | Vela                     |    4.7 |           171\n",
      " 2365cbd0-e7a8-4678-9948-f4fb1bb7342f | SpurIT                   |    4.7 |            98\n",
      " 35e449e0-7f4a-4831-bb36-ce8951794f5a | Webify Technology        |    4.6 |           132\n",
      " 032eeb26-b9af-4565-8cce-d72e5abcbc03 | Autoketing               |    4.6 |           103\n",
      " 3cee061e-48ed-4270-9925-3a12c5af3824 | Stock Sync               |    4.6 |            61\n",
      " 9598b415-bd16-477e-a425-85d1e06d94d9 | SpurIT                   |    4.5 |            81\n",
      " 9c05a5b1-2d1b-4282-9006-8c8f6c6b378b | Sellbrite                |    4.4 |            98\n",
      " e29ca127-1b96-48ec-8baf-7609b656c98b | Kit CRM                  |    4.3 |          1306\n",
      " b4a76da2-f312-491a-8e65-e3c69abd2544 | Orderimp                 |    4.1 |            60\n",
      "(27 rows)\n",
      "\n"
     ]
    }
   ],
   "source": [
    "#prompt 1\n",
    "!psql -c \"\\i $BASE_DIR/Queries/prompt_one.sql\""
   ]
  },
  {
   "cell_type": "code",
   "execution_count": 61,
   "metadata": {},
   "outputs": [
    {
     "name": "stdout",
     "output_type": "stream",
     "text": [
      " count \n",
      "-------\n",
      "  9822\n",
      "(1 row)\n",
      "\n"
     ]
    }
   ],
   "source": [
    "#prompt 2\n",
    "!psql -c \"\\i $BASE_DIR/Queries/prompt_two.sql\""
   ]
  },
  {
   "cell_type": "code",
   "execution_count": 62,
   "metadata": {},
   "outputs": [
    {
     "name": "stdout",
     "output_type": "stream",
     "text": [
      "                app_id                |             developer             |             title              | rating \n",
      "--------------------------------------+-----------------------------------+--------------------------------+--------\n",
      " 8785d00f-6652-495d-a5e8-18e488e42839 | LitExtension                      | LitExtension Store Migration   |      5\n",
      " 3ea45eed-1606-4be5-a93c-21ecbc9f413f | Dimension Software                | Passwordless Social Login      |      5\n",
      " 1c68fab5-7df6-4fb8-90ee-c8ad03d48747 | App Developer Group               | Ordering Rules ‑ Fraud Blocker |      5\n",
      " 65b22742-6a8b-4c4f-b8f2-33025f1a1e6c | Coupo                             | Coupo Trust Badge              |      5\n",
      " 6ca391f3-cd0f-4059-a436-50b4ab238212 | iSenseLabs                        | Free GDPR + Cookie Management  |      5\n",
      " 6d830a4d-bda6-4a91-b1a0-80a124cc7290 | CedCommerce                       | Omni Migrator                  |      5\n",
      " c578d9da-7776-4d7d-86b6-9efe431d9c9c | 256 Development                   | Metafields Guru                |    4.9\n",
      " 30b2e816-061c-46f5-afa5-9f2c94c344e5 | Accentuate Digital                | Accentuate Custom Fields       |    4.9\n",
      " 95368b79-2ca2-4eeb-a02d-a2484275d46a | Varinode, Inc.                    | TRUST                          |    4.9\n",
      " 70bff9e0-4316-4cc6-84ce-92fcd1bc6925 | Booster Apps                      | EU Cookie Bar ‑ Cookie GDPR    |    4.7\n",
      " 50aaa827-1a4f-4ffd-8bd6-8e6aade34853 | TrustedSite                       | TrustedSite                    |    4.6\n",
      " 00312cea-3595-4d65-a60d-6e8e5b7d6897 | Human Presence Technology         | Shop Protector                 |    4.3\n",
      " 50c93b6e-3b16-4eeb-afd8-b3d883f49c79 | webserviceXXL                     | Terms Confirmation Checkbox    |    4.3\n",
      " 967aa13b-bd5a-4397-8bee-ceaf52772288 | Vilango GmbH + Trusted Shops GmbH | Trustbadge: Reviews Toolkit    |    4.1\n",
      " f6961d6d-ae13-45a9-bbf9-f2a670840ec2 | Shopify                           | Fraud Filter                   |    3.3\n",
      " 9906834d-1323-4033-a3e6-976448273c27 | Shoptigrator                      | Zero Spam Contact Form         |      3\n",
      " c09427b5-eb85-4944-a8de-ab664ceb9d3c | Alchemative (SMC-PVT) LTD         | Call Courier                   |      0\n",
      " e0399fb4-5678-48ef-b8b8-21ea2cad1317 | Coalition, Inc.                   | Cyber Insurance                |      0\n",
      " e0399fb4-5678-48ef-b8b8-21ea2cad1317 | Coalition, Inc.                   | Cyber Insurance                |      0\n",
      "(19 rows)\n",
      "\n"
     ]
    }
   ],
   "source": [
    "# prompt 3\n",
    "!psql -c \"\\i $BASE_DIR/Queries/prompt_three.sql\""
   ]
  },
  {
   "cell_type": "code",
   "execution_count": null,
   "metadata": {},
   "outputs": [],
   "source": []
  }
 ],
 "metadata": {
  "environment": {
   "kernel": "python3",
   "name": "common-cpu.m87",
   "type": "gcloud",
   "uri": "gcr.io/deeplearning-platform-release/base-cpu:m87"
  },
  "kernelspec": {
   "display_name": "Python 3",
   "language": "python",
   "name": "python3"
  },
  "language_info": {
   "codemirror_mode": {
    "name": "ipython",
    "version": 3
   },
   "file_extension": ".py",
   "mimetype": "text/x-python",
   "name": "python",
   "nbconvert_exporter": "python",
   "pygments_lexer": "ipython3",
   "version": "3.7.12"
  }
 },
 "nbformat": 4,
 "nbformat_minor": 4
}
